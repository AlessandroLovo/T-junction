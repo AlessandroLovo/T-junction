{
 "cells": [
  {
   "cell_type": "markdown",
   "metadata": {},
   "source": [
    "## Plotting ufloats"
   ]
  },
  {
   "cell_type": "code",
   "execution_count": 1,
   "metadata": {},
   "outputs": [],
   "source": [
    "import numpy as np\n",
    "import matplotlib.pyplot as plt\n",
    "from tqdm import tqdm\n",
    "import uncertainties as unc"
   ]
  },
  {
   "cell_type": "code",
   "execution_count": 5,
   "metadata": {},
   "outputs": [],
   "source": [
    "# test dataset\n",
    "vs = []\n",
    "for i in range(100):\n",
    "    vs.append(unc.ufloat(np.random.uniform(0,1), np.random.uniform(0.001, 0.2)))\n",
    "vs = np.array(vs)"
   ]
  },
  {
   "cell_type": "code",
   "execution_count": 20,
   "metadata": {},
   "outputs": [],
   "source": [
    "def plot(*args, ax=None, **kwargs):\n",
    "    '''\n",
    "    Quick interface to the plt.errorbar function:\n",
    "    \n",
    "    Parameters:\n",
    "        *args:\n",
    "            x: optinal, if given array-like. If it is an array of ufloats xerrorbars are plotted\n",
    "            y: array-like. If it is an array of ufloats xerrorbars are plotted\n",
    "        \n",
    "        ax: optional, axis on which to execute the plot\n",
    "        \n",
    "        **kwargs: passed to plt.errorbar, e.g. 'fmt'\n",
    "        \n",
    "    Returns: ErrorbarContainer\n",
    "        \n",
    "    '''\n",
    "    if len(args) == 2:\n",
    "        xs = args[0]\n",
    "        ys = args[1]\n",
    "    else:\n",
    "        ys = args[0]\n",
    "        xs = np.arange(len(ys))\n",
    "    if type(xs[0]) == unc.core.Variable:\n",
    "        x_d = np.array([[x.n, x.s] for x in xs])\n",
    "        x_val = x_d[:,0]\n",
    "        x_err = x_d[:,1]\n",
    "    else:\n",
    "        x_val = xs\n",
    "        x_err = None\n",
    "    \n",
    "    if type(ys[0]) == unc.core.Variable:\n",
    "        y_d = np.array([[y.n, y.s] for y in ys])\n",
    "        y_val = y_d[:,0]\n",
    "        y_err = y_d[:,1]\n",
    "    else:\n",
    "        y_val = ys\n",
    "        y_err = None\n",
    "    \n",
    "    if ax is not None:\n",
    "        return ax.errorbar(x_val, y_val, xerr=x_err, yerr=y_err, **kwargs)\n",
    "    return plt.errorbar(x_val, y_val, xerr=x_err, yerr=y_err, **kwargs)\n",
    "\n",
    "\n",
    "def kde(xs, points=10, ax=None, **kwargs):\n",
    "    '''\n",
    "    Performs a kde histogram of ufloat data\n",
    "    \n",
    "    Parameters:\n",
    "        xs: array-like of ufloats\n",
    "        points: int or array-like:\n",
    "            if int: number of points that are computed\n",
    "            if array-like: array of points where to sample\n",
    "        ax: optional, axis on which to execute the plot\n",
    "    '''\n",
    "    x_d = np.array([[x.n, x.s] for x in xs])\n",
    "    x_val = x_d[:,0]\n",
    "    x_err = x_d[:,1]\n",
    "    \n",
    "    if type(points) == int: \n",
    "        min_idx = np.argmin(x_val)\n",
    "        max_idx = np.argmax(x_val)\n",
    "        min_x = x_val[min_idx] - 2*x_err[min_idx]\n",
    "        max_x = x_val[max_idx] + 2*x_err[max_idx]\n",
    "\n",
    "        points = np.linspace(min_x, max_x, points)"
   ]
  },
  {
   "cell_type": "code",
   "execution_count": 24,
   "metadata": {},
   "outputs": [
    {
     "data": {
      "text/plain": [
       "<ErrorbarContainer object of 3 artists>"
      ]
     },
     "execution_count": 24,
     "metadata": {},
     "output_type": "execute_result"
    },
    {
     "data": {
      "image/png": "[encoded data removed]",
      "text/plain": [
       "<Figure size 432x288 with 1 Axes>"
      ]
     },
     "metadata": {
      "needs_background": "light"
     },
     "output_type": "display_data"
    }
   ],
   "source": [
    "fig, ax = plt.subplots()\n",
    "plot(vs, np.arange(100), ax=ax, fmt='o', alpha=0.3)"
   ]
  },
  {
   "cell_type": "code",
   "execution_count": null,
   "metadata": {},
   "outputs": [],
   "source": []
  }
 ],
 "metadata": {
  "kernelspec": {
   "display_name": "Python 3",
   "language": "python",
   "name": "python3"
  },
  "language_info": {
   "codemirror_mode": {
    "name": "ipython",
    "version": 3
   },
   "file_extension": ".py",
   "mimetype": "text/x-python",
   "name": "python",
   "nbconvert_exporter": "python",
   "pygments_lexer": "ipython3",
   "version": "3.8.3"
  }
 },
 "nbformat": 4,
 "nbformat_minor": 4
}
