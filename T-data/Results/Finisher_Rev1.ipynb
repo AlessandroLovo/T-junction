{
 "cells": [
  {
   "cell_type": "markdown",
   "metadata": {
    "heading_collapsed": true
   },
   "source": [
    "### Note"
   ]
  },
  {
   "cell_type": "raw",
   "metadata": {
    "hidden": true
   },
   "source": [
    "Example of a dataframes (electronic analysis) with its 14 properties (1 = sig.1, 2 = sig.2)\n",
    "\n",
    "                    property        mean  mean std     sigma  sigma std\n",
    "0    Temporal distance 1 [s]    7.640199  0.107665  1.974752   0.107666\n",
    "1    Temporal distance 2 [s]    6.830958  0.729017  2.355629   0.729057\n",
    "2        temporal size 1 [s]    2.185974  0.031900  0.583609   0.031901\n",
    "3        temporal size 2 [s]    2.794406  0.049398  0.479029   0.049396\n",
    "4      temporal period 1 [s]    9.869812  0.123706  1.889908   0.123762\n",
    "5      temporal period 2 [s]   11.456947  0.143627  0.866993   0.143619\n",
    "6           dt detectors [s]  301.577201  1.326848  9.863521   1.326852\n",
    "7               velocity [s]    0.165055  0.000779  0.003909   0.000779\n",
    "8         spatial size 1 [s]    0.356735  0.005391  0.097737   0.005391\n",
    "9         spatial size 2 [s]    0.468290  0.006786  0.052036   0.006786\n",
    "10    spatial distance 1 [s]    1.238815  0.019558  0.317515   0.019559\n",
    "11    spatial distance 2 [s]    1.234857  0.168602  0.636487   0.169343\n",
    "12  fiber spatial size 1 [s]    0.130811  0.002492  0.048166   0.002492\n",
    "13  fiber spatial size 2 [s]    0.241989  0.017439  0.108778   0.017479"
   ]
  },
  {
   "cell_type": "raw",
   "metadata": {
    "hidden": true
   },
   "source": [
    "Example of a dataframes (image analysis) with its 9 properties\n",
    "\n",
    "               property      mean  mean std     sigma  sigma std\n",
    "0       distance w [mm]  1.059666  0.006866  0.218100   0.006866\n",
    "1       distance n [mm]  1.254990  0.007145  0.225758   0.007145\n",
    "2       wavelength [mm]  2.253316  0.008406  0.252762   0.008406\n",
    "3           size w [mm]  1.207421  0.009926  0.184841   0.009926\n",
    "4           size n [mm]  1.009947  0.008700  0.187711   0.008699\n",
    "5  meniscus size b [mm]  0.102872  0.000389  0.033605   0.000389\n",
    "6  meniscus size f [mm]  0.073849  0.000672  0.028310   0.000672\n",
    "7     velocity w [mm/s]  0.316939  0.004018  0.173666   0.004019\n",
    "8     velocity n [mm/s]  0.316098  0.003649  0.181611   0.003651"
   ]
  },
  {
   "cell_type": "raw",
   "metadata": {
    "hidden": true
   },
   "source": [
    "Example of a label [filename, day, month, chip, aq_flux, ol_flux, analysis]\n",
    "\n",
    "['2-12_A-ol0.5-aq0.5_i.csv' '2.0' '12.0' 'A' '0.5' '0.5' 'I']"
   ]
  },
  {
   "cell_type": "raw",
   "metadata": {
    "hidden": true
   },
   "source": [
    "Common commands\n",
    "\n",
    "1) fn_reader(filename) \n",
    "    reads the FileName and returns a label which identifies the dataset\n",
    "    label = [filename, day, month, chip, aq_flux, ol_flux, analysis]\n",
    "    \n",
    "2) df = pd.read_csv(label[i][0]) \n",
    "    returns the dataframe of the i° file\n",
    "    \n",
    "3) def df_reader(label, target)\n",
    "    returns the vector of the values of the property \"target\" indexed by the label\n",
    "    values = [mean, mean std, sigma, sigma std]\n",
    "\n",
    "4)"
   ]
  },
  {
   "cell_type": "markdown",
   "metadata": {
    "heading_collapsed": true
   },
   "source": [
    "### Library"
   ]
  },
  {
   "cell_type": "code",
   "execution_count": 1,
   "metadata": {
    "hidden": true
   },
   "outputs": [],
   "source": [
    "import numpy as np\n",
    "import pandas as pd\n",
    "import matplotlib\n",
    "import matplotlib.pyplot as plt\n",
    "import uncertainties as unc\n",
    "\n",
    "import sys\n",
    "sys.path.append('../../Software/Python/Library')\n",
    "\n",
    "import uplotlib as uplt"
   ]
  },
  {
   "cell_type": "code",
   "execution_count": 2,
   "metadata": {
    "hidden": true
   },
   "outputs": [],
   "source": [
    "# reads the FileName and returns a label which identifies the dataset\n",
    "# label = [filename, day, month, chip, aq_flux, ol_flux, analysis]\n",
    "def fn_reader(filename):\n",
    "    \n",
    "    # return a list of floated values from the text string\n",
    "    import re\n",
    "    def get_numbers_from_filename(filename):\n",
    "        z = re.findall(r'\\d+(?:\\.\\d+)?', filename)\n",
    "        return [float(z[s]) for s in range(len(z))]\n",
    "    \n",
    "    \n",
    "    chip = 'None'\n",
    "    if (filename.find('A') != -1): \n",
    "        chip = 'A'\n",
    "    if (filename.find('B') != -1): \n",
    "        chip = 'B'\n",
    "    analysis = 'None'\n",
    "    if (filename.find('i') != -1): \n",
    "        analysis  = 'I'\n",
    "    if (filename.find('e') != -1): \n",
    "        analysis  = 'E'\n",
    "    date_d = get_numbers_from_filename(filename)[0]\n",
    "    date_m = get_numbers_from_filename(filename)[1]\n",
    "    ol     = get_numbers_from_filename(filename)[2]\n",
    "    aq     = get_numbers_from_filename(filename)[3]\n",
    "    label  = [filename, date_d, date_m, chip, ol, aq, analysis]\n",
    "        \n",
    "    return label"
   ]
  },
  {
   "cell_type": "code",
   "execution_count": 3,
   "metadata": {
    "hidden": true
   },
   "outputs": [],
   "source": [
    "# returns the vector of the mean values of the property \"target\" indexed by the label\n",
    "def df_reader(label, target):\n",
    "    \n",
    "    target = target.split('[')[0]\n",
    "    \n",
    "    values = []\n",
    "\n",
    "    for i in np.arange(len(label)):        # runs through the files indexed by the label\n",
    "        df = pd.read_csv(label[i][0])      # dataframe of the i° file\n",
    "        #print(df)\n",
    "        indexNamesArr  = df.index.values   # names of the rows of df\n",
    "        \n",
    "        for x in indexNamesArr:                                # runs through the rows of each dataframe\n",
    "            if df.loc[x]['property'].split('[')[0] == target:  # finds the row of the property \"target\"\n",
    "                values.append(df.loc[x][1:])                   # gets the values of the property\n",
    "                print(label[i][0] + '\\t' + target + '\\t YES')\n",
    "                check = 'true'\n",
    "        \n",
    "        # warning: the dataframe has not the \"target\" property \n",
    "        if check == 'false':\n",
    "            print(label[i][0] + '\\t' + target + '\\t NO')\n",
    "            values.append([np.nan, np.nan, np.nan, np.nan])\n",
    "        \n",
    "        check  = 'false'\n",
    "                \n",
    "    return values\n",
    "\n"
   ]
  },
  {
   "cell_type": "code",
   "execution_count": 4,
   "metadata": {
    "hidden": true
   },
   "outputs": [],
   "source": [
    "# converts the array property([mean][mean std][sigma][sigma std]) in ufloat data_out([mean +- sigma])\n",
    "def ufloat_converter(data_in): \n",
    "    \n",
    "    data_out = []\n",
    "    \n",
    "    for idx in range(len(data_in)):\n",
    "        data_out.append(unc.ufloat(data_in[idx][0], data_in[idx][2]))\n",
    "    \n",
    "    return data_out"
   ]
  },
  {
   "cell_type": "code",
   "execution_count": 5,
   "metadata": {
    "hidden": true
   },
   "outputs": [],
   "source": [
    "# LaTex plot\n",
    "FontSize = 18\n",
    "plt.rc('axes',   titlesize = FontSize) # fontsize of the axes title\n",
    "plt.rc('axes',   labelsize = FontSize) # fontsize of the x and y labels\n",
    "plt.rc('xtick',  labelsize = FontSize) # fontsize of the tick labels\n",
    "plt.rc('ytick',  labelsize = FontSize) # fontsize of the tick labels\n",
    "plt.rc('legend', fontsize  = FontSize) # legend fontsize\n",
    "plt.rc('figure', titlesize = FontSize) # fontsize of the figure title\n",
    "\n",
    "matplotlib.rcParams.update({\n",
    "    'font.family': 'serif',\n",
    "    'font.size' :  18,\n",
    "    'text.usetex': True,\n",
    "    'pgf.rcfonts': False,\n",
    "})"
   ]
  },
  {
   "cell_type": "markdown",
   "metadata": {
    "heading_collapsed": true
   },
   "source": [
    "### Importing data"
   ]
  },
  {
   "cell_type": "code",
   "execution_count": 6,
   "metadata": {
    "hidden": true
   },
   "outputs": [
    {
     "name": "stdout",
     "output_type": "stream",
     "text": [
      "Label_E_A:\n",
      "\n",
      "[['2-12_A-ol0.5-aq0.5_e.csv' '2.0' '12.0' 'A' '0.5' '0.5' 'E']]\n",
      "\n",
      "\n",
      " Label_E_B:\n",
      "\n",
      "[['2-12_B-ol10-aq10_e.csv' '2.0' '12.0' 'B' '10.0' '10.0' 'E']\n",
      " ['2-12_B-ol15-aq5_e.csv' '2.0' '12.0' 'B' '15.0' '5.0' 'E']\n",
      " ['2-12_B-ol2-aq2_e.csv' '2.0' '12.0' 'B' '2.0' '2.0' 'E']\n",
      " ['2-12_B-ol3-aq7_e.csv' '2.0' '12.0' 'B' '3.0' '7.0' 'E']\n",
      " ['2-12_B-ol30-aq10_e.csv' '2.0' '12.0' 'B' '30.0' '10.0' 'E']\n",
      " ['2-12_B-ol5-aq15_e.csv' '2.0' '12.0' 'B' '5.0' '15.0' 'E']\n",
      " ['2-12_B-ol5-aq5_e.csv' '2.0' '12.0' 'B' '5.0' '5.0' 'E']\n",
      " ['2-12_B-ol7-aq3_e.csv' '2.0' '12.0' 'B' '7.0' '3.0' 'E']]\n",
      "\n",
      "\n",
      " Label_I_A:\n",
      "\n",
      "[['2-12_A-ol0.5-aq0.5_i.csv' '2.0' '12.0' 'A' '0.5' '0.5' 'I']\n",
      " ['2-12_A-ol2-aq2_i.csv' '2.0' '12.0' 'A' '2.0' '2.0' 'I']\n",
      " ['2-12_A-ol5-aq5_i.csv' '2.0' '12.0' 'A' '5.0' '5.0' 'I']]\n",
      "\n",
      "\n",
      " Label_I_B:\n",
      "\n",
      "[['2-12_B-ol10-aq10_i.csv' '2.0' '12.0' 'B' '10.0' '10.0' 'I']\n",
      " ['2-12_B-ol15-aq5_i.csv' '2.0' '12.0' 'B' '15.0' '5.0' 'I']\n",
      " ['2-12_B-ol2-aq2_i.csv' '2.0' '12.0' 'B' '2.0' '2.0' 'I']\n",
      " ['2-12_B-ol3-aq7_i.csv' '2.0' '12.0' 'B' '3.0' '7.0' 'I']\n",
      " ['2-12_B-ol5-aq15_i.csv' '2.0' '12.0' 'B' '5.0' '15.0' 'I']\n",
      " ['2-12_B-ol5-aq5_i.csv' '2.0' '12.0' 'B' '5.0' '5.0' 'I']\n",
      " ['2-12_B-ol7-aq3_i.csv' '2.0' '12.0' 'B' '7.0' '3.0' 'I']]\n"
     ]
    }
   ],
   "source": [
    "# label = [filename, day, month, chip, aq_flux, ol_flux, analysis]\n",
    "# label_E for electronic analysis\n",
    "# label_I for image analysis\n",
    "\n",
    "import glob, os\n",
    "os.chdir(\"./\")\n",
    "label = [];\n",
    "label_E_A = []\n",
    "label_E_B = []\n",
    "label_I_A = []\n",
    "label_I_B = []\n",
    "i = 0\n",
    "for filename in glob.glob(\"*.csv\"):\n",
    "    label.append(fn_reader(filename))\n",
    "    if label[i][6] == 'E':\n",
    "        if label[i][3] == 'A':    \n",
    "            label_E_A.append(fn_reader(filename))\n",
    "        if label[i][3] == 'B':    \n",
    "            label_E_B.append(fn_reader(filename))\n",
    "    if label[i][6] == 'I':\n",
    "        if label[i][3] == 'A':    \n",
    "            label_I_A.append(fn_reader(filename))\n",
    "        if label[i][3] == 'B':    \n",
    "            label_I_B.append(fn_reader(filename))\n",
    "    i = i+1\n",
    "\n",
    "label_E_A = np.array(label_E_A)\n",
    "label_E_B = np.array(label_E_B)\n",
    "label_I_A = np.array(label_I_A)\n",
    "label_I_B = np.array(label_I_B)\n",
    "\n",
    "print ('Label_E_A:\\n')\n",
    "print(label_E_A)\n",
    "print ('\\n\\n Label_E_B:\\n')\n",
    "print(label_E_B)\n",
    "print ('\\n\\n Label_I_A:\\n')\n",
    "print(label_I_A)\n",
    "print ('\\n\\n Label_I_B:\\n')\n",
    "print(label_I_B)"
   ]
  },
  {
   "cell_type": "markdown",
   "metadata": {
    "heading_collapsed": true
   },
   "source": [
    "### Data arrangement"
   ]
  },
  {
   "cell_type": "code",
   "execution_count": 22,
   "metadata": {
    "hidden": true
   },
   "outputs": [
    {
     "name": "stdout",
     "output_type": "stream",
     "text": [
      "2-12_B-ol10-aq10_e.csv\tTemporal distance 1 \t YES\n",
      "2-12_B-ol15-aq5_e.csv\tTemporal distance 1 \t YES\n",
      "2-12_B-ol2-aq2_e.csv\tTemporal distance 1 \t YES\n",
      "2-12_B-ol3-aq7_e.csv\tTemporal distance 1 \t YES\n",
      "2-12_B-ol30-aq10_e.csv\tTemporal distance 1 \t YES\n",
      "2-12_B-ol5-aq15_e.csv\tTemporal distance 1 \t YES\n",
      "2-12_B-ol5-aq5_e.csv\tTemporal distance 1 \t YES\n",
      "2-12_B-ol7-aq3_e.csv\tTemporal distance 1 \t YES\n",
      "2-12_B-ol10-aq10_e.csv\tTemporal distance 2 \t YES\n",
      "2-12_B-ol15-aq5_e.csv\tTemporal distance 2 \t YES\n",
      "2-12_B-ol2-aq2_e.csv\tTemporal distance 2 \t YES\n",
      "2-12_B-ol3-aq7_e.csv\tTemporal distance 2 \t YES\n",
      "2-12_B-ol30-aq10_e.csv\tTemporal distance 2 \t YES\n",
      "2-12_B-ol5-aq15_e.csv\tTemporal distance 2 \t YES\n",
      "2-12_B-ol5-aq5_e.csv\tTemporal distance 2 \t YES\n",
      "2-12_B-ol7-aq3_e.csv\tTemporal distance 2 \t YES\n",
      "2-12_A-ol0.5-aq0.5_e.csv\tTemporal distance 1 \t YES\n",
      "2-12_A-ol0.5-aq0.5_e.csv\tTemporal distance 2 \t YES\n",
      "2-12_B-ol10-aq10_e.csv\ttemporal size 1 \t YES\n",
      "2-12_B-ol15-aq5_e.csv\ttemporal size 1 \t YES\n",
      "2-12_B-ol2-aq2_e.csv\ttemporal size 1 \t YES\n",
      "2-12_B-ol3-aq7_e.csv\ttemporal size 1 \t YES\n",
      "2-12_B-ol30-aq10_e.csv\ttemporal size 1 \t YES\n",
      "2-12_B-ol5-aq15_e.csv\ttemporal size 1 \t YES\n",
      "2-12_B-ol5-aq5_e.csv\ttemporal size 1 \t YES\n",
      "2-12_B-ol7-aq3_e.csv\ttemporal size 1 \t YES\n",
      "2-12_B-ol10-aq10_e.csv\ttemporal size 2 \t YES\n",
      "2-12_B-ol15-aq5_e.csv\ttemporal size 2 \t YES\n",
      "2-12_B-ol2-aq2_e.csv\ttemporal size 2 \t YES\n",
      "2-12_B-ol3-aq7_e.csv\ttemporal size 2 \t YES\n",
      "2-12_B-ol30-aq10_e.csv\ttemporal size 2 \t YES\n",
      "2-12_B-ol5-aq15_e.csv\ttemporal size 2 \t YES\n",
      "2-12_B-ol5-aq5_e.csv\ttemporal size 2 \t YES\n",
      "2-12_B-ol7-aq3_e.csv\ttemporal size 2 \t YES\n",
      "2-12_A-ol0.5-aq0.5_e.csv\ttemporal size 1 \t YES\n",
      "2-12_A-ol0.5-aq0.5_e.csv\ttemporal size 2 \t YES\n",
      "2-12_B-ol10-aq10_e.csv\ttemporal period 1 \t YES\n",
      "2-12_B-ol15-aq5_e.csv\ttemporal period 1 \t YES\n",
      "2-12_B-ol2-aq2_e.csv\ttemporal period 1 \t YES\n",
      "2-12_B-ol3-aq7_e.csv\ttemporal period 1 \t YES\n",
      "2-12_B-ol30-aq10_e.csv\ttemporal period 1 \t YES\n",
      "2-12_B-ol5-aq15_e.csv\ttemporal period 1 \t YES\n",
      "2-12_B-ol5-aq5_e.csv\ttemporal period 1 \t YES\n",
      "2-12_B-ol7-aq3_e.csv\ttemporal period 1 \t YES\n",
      "2-12_B-ol10-aq10_e.csv\ttemporal period 2 \t YES\n",
      "2-12_B-ol15-aq5_e.csv\ttemporal period 2 \t YES\n",
      "2-12_B-ol2-aq2_e.csv\ttemporal period 2 \t YES\n",
      "2-12_B-ol3-aq7_e.csv\ttemporal period 2 \t YES\n",
      "2-12_B-ol30-aq10_e.csv\ttemporal period 2 \t YES\n",
      "2-12_B-ol5-aq15_e.csv\ttemporal period 2 \t YES\n",
      "2-12_B-ol5-aq5_e.csv\ttemporal period 2 \t YES\n",
      "2-12_B-ol7-aq3_e.csv\ttemporal period 2 \t YES\n",
      "2-12_A-ol0.5-aq0.5_e.csv\ttemporal period 1 \t YES\n",
      "2-12_A-ol0.5-aq0.5_e.csv\ttemporal period 2 \t YES\n",
      "2-12_B-ol10-aq10_e.csv\tdt detectors \t YES\n",
      "2-12_B-ol15-aq5_e.csv\tdt detectors \t YES\n",
      "2-12_B-ol2-aq2_e.csv\tdt detectors \t YES\n",
      "2-12_B-ol3-aq7_e.csv\tdt detectors \t YES\n",
      "2-12_B-ol30-aq10_e.csv\tdt detectors \t YES\n",
      "2-12_B-ol5-aq15_e.csv\tdt detectors \t YES\n",
      "2-12_B-ol5-aq5_e.csv\tdt detectors \t YES\n",
      "2-12_B-ol7-aq3_e.csv\tdt detectors \t YES\n",
      "2-12_A-ol0.5-aq0.5_e.csv\tdt detectors \t YES\n",
      "2-12_B-ol10-aq10_e.csv\tvelocity \t YES\n",
      "2-12_B-ol15-aq5_e.csv\tvelocity \t YES\n",
      "2-12_B-ol15-aq5_e.csv\tvelocity \t YES\n",
      "2-12_B-ol2-aq2_e.csv\tvelocity \t YES\n",
      "2-12_B-ol3-aq7_e.csv\tvelocity \t YES\n",
      "2-12_B-ol30-aq10_e.csv\tvelocity \t YES\n",
      "2-12_B-ol5-aq15_e.csv\tvelocity \t YES\n",
      "2-12_B-ol5-aq5_e.csv\tvelocity \t YES\n",
      "2-12_B-ol7-aq3_e.csv\tvelocity \t YES\n",
      "2-12_A-ol0.5-aq0.5_e.csv\tvelocity \t YES\n",
      "2-12_B-ol10-aq10_e.csv\tspatial size 1 \t YES\n",
      "2-12_B-ol15-aq5_e.csv\tspatial size 1 \t YES\n",
      "2-12_B-ol2-aq2_e.csv\tspatial size 1 \t YES\n",
      "2-12_B-ol3-aq7_e.csv\tspatial size 1 \t YES\n",
      "2-12_B-ol30-aq10_e.csv\tspatial size 1 \t YES\n",
      "2-12_B-ol5-aq15_e.csv\tspatial size 1 \t YES\n",
      "2-12_B-ol5-aq5_e.csv\tspatial size 1 \t YES\n",
      "2-12_B-ol7-aq3_e.csv\tspatial size 1 \t YES\n",
      "2-12_B-ol10-aq10_e.csv\tspatial size 2 \t YES\n",
      "2-12_B-ol15-aq5_e.csv\tspatial size 2 \t YES\n",
      "2-12_B-ol2-aq2_e.csv\tspatial size 2 \t YES\n",
      "2-12_B-ol3-aq7_e.csv\tspatial size 2 \t YES\n",
      "2-12_B-ol30-aq10_e.csv\tspatial size 2 \t YES\n",
      "2-12_B-ol5-aq15_e.csv\tspatial size 2 \t YES\n",
      "2-12_B-ol5-aq5_e.csv\tspatial size 2 \t YES\n",
      "2-12_B-ol7-aq3_e.csv\tspatial size 2 \t YES\n",
      "2-12_A-ol0.5-aq0.5_e.csv\tspatial size 1 \t YES\n",
      "2-12_A-ol0.5-aq0.5_e.csv\tspatial size 2 \t YES\n",
      "2-12_B-ol10-aq10_e.csv\tspatial distance 1 \t YES\n",
      "2-12_B-ol15-aq5_e.csv\tspatial distance 1 \t YES\n",
      "2-12_B-ol2-aq2_e.csv\tspatial distance 1 \t YES\n",
      "2-12_B-ol3-aq7_e.csv\tspatial distance 1 \t YES\n",
      "2-12_B-ol30-aq10_e.csv\tspatial distance 1 \t YES\n",
      "2-12_B-ol5-aq15_e.csv\tspatial distance 1 \t YES\n",
      "2-12_B-ol5-aq5_e.csv\tspatial distance 1 \t YES\n",
      "2-12_B-ol7-aq3_e.csv\tspatial distance 1 \t YES\n",
      "2-12_B-ol10-aq10_e.csv\tspatial distance 2 \t YES\n",
      "2-12_B-ol15-aq5_e.csv\tspatial distance 2 \t YES\n",
      "2-12_B-ol2-aq2_e.csv\tspatial distance 2 \t YES\n",
      "2-12_B-ol3-aq7_e.csv\tspatial distance 2 \t YES\n",
      "2-12_B-ol30-aq10_e.csv\tspatial distance 2 \t YES\n",
      "2-12_B-ol5-aq15_e.csv\tspatial distance 2 \t YES\n",
      "2-12_B-ol5-aq5_e.csv\tspatial distance 2 \t YES\n",
      "2-12_B-ol7-aq3_e.csv\tspatial distance 2 \t YES\n",
      "2-12_A-ol0.5-aq0.5_e.csv\tspatial distance 1 \t YES\n",
      "2-12_A-ol0.5-aq0.5_e.csv\tspatial distance 2 \t YES\n",
      "2-12_B-ol10-aq10_e.csv\tfiber spatial size 1 \t YES\n",
      "2-12_B-ol15-aq5_e.csv\tfiber spatial size 1 \t YES\n",
      "2-12_B-ol2-aq2_e.csv\tfiber spatial size 1 \t YES\n",
      "2-12_B-ol3-aq7_e.csv\tfiber spatial size 1 \t YES\n",
      "2-12_B-ol30-aq10_e.csv\tfiber spatial size 1 \t YES\n",
      "2-12_B-ol5-aq15_e.csv\tfiber spatial size 1 \t YES\n",
      "2-12_B-ol5-aq5_e.csv\tfiber spatial size 1 \t YES\n",
      "2-12_B-ol7-aq3_e.csv\tfiber spatial size 1 \t YES\n",
      "2-12_B-ol10-aq10_e.csv\tfiber spatial size 2 \t YES\n",
      "2-12_B-ol15-aq5_e.csv\tfiber spatial size 2 \t YES\n",
      "2-12_B-ol2-aq2_e.csv\tfiber spatial size 2 \t YES\n",
      "2-12_B-ol3-aq7_e.csv\tfiber spatial size 2 \t YES\n",
      "2-12_B-ol30-aq10_e.csv\tfiber spatial size 2 \t YES\n",
      "2-12_B-ol5-aq15_e.csv\tfiber spatial size 2 \t YES\n",
      "2-12_B-ol5-aq5_e.csv\tfiber spatial size 2 \t YES\n",
      "2-12_B-ol7-aq3_e.csv\tfiber spatial size 2 \t YES\n",
      "2-12_A-ol0.5-aq0.5_e.csv\tfiber spatial size 1 \t YES\n",
      "2-12_A-ol0.5-aq0.5_e.csv\tfiber spatial size 2 \t YES\n",
      "2-12_B-ol10-aq10_i.csv\tdistance w \t YES\n",
      "2-12_B-ol15-aq5_i.csv\tdistance w \t YES\n",
      "2-12_B-ol2-aq2_i.csv\tdistance w \t YES\n",
      "2-12_B-ol3-aq7_i.csv\tdistance w \t YES\n",
      "2-12_B-ol5-aq15_i.csv\tdistance w \t YES\n",
      "2-12_B-ol5-aq5_i.csv\tdistance w \t YES\n",
      "2-12_B-ol7-aq3_i.csv\tdistance w \t YES\n",
      "2-12_B-ol10-aq10_i.csv\tdistance n \t YES\n",
      "2-12_B-ol15-aq5_i.csv\tdistance n \t YES\n",
      "2-12_B-ol2-aq2_i.csv\tdistance n \t YES\n",
      "2-12_B-ol3-aq7_i.csv\tdistance n \t YES\n",
      "2-12_B-ol5-aq15_i.csv\tdistance n \t YES\n",
      "2-12_B-ol5-aq5_i.csv\tdistance n \t YES\n",
      "2-12_B-ol7-aq3_i.csv\tdistance n \t YES\n",
      "2-12_A-ol0.5-aq0.5_i.csv\tdistance w \t YES\n",
      "2-12_A-ol2-aq2_i.csv\tdistance w \t YES\n",
      "2-12_A-ol5-aq5_i.csv\tdistance w \t YES\n",
      "2-12_A-ol0.5-aq0.5_i.csv\tdistance n \t YES\n",
      "2-12_A-ol2-aq2_i.csv\tdistance n \t YES\n",
      "2-12_A-ol5-aq5_i.csv\tdistance n \t YES\n",
      "2-12_B-ol10-aq10_i.csv\twavelength \t YES\n",
      "2-12_B-ol15-aq5_i.csv\twavelength \t YES\n",
      "2-12_B-ol2-aq2_i.csv\twavelength \t YES\n",
      "2-12_B-ol3-aq7_i.csv\twavelength \t YES\n",
      "2-12_B-ol5-aq15_i.csv\twavelength \t YES\n",
      "2-12_B-ol5-aq5_i.csv\twavelength \t YES\n",
      "2-12_B-ol7-aq3_i.csv\twavelength \t YES\n",
      "2-12_A-ol0.5-aq0.5_i.csv\twavelength \t YES\n",
      "2-12_A-ol2-aq2_i.csv\twavelength \t YES\n",
      "2-12_A-ol5-aq5_i.csv\twavelength \t YES\n",
      "2-12_B-ol10-aq10_i.csv\tsize w \t YES\n",
      "2-12_B-ol15-aq5_i.csv\tsize w \t YES\n",
      "2-12_B-ol2-aq2_i.csv\tsize w \t YES\n",
      "2-12_B-ol3-aq7_i.csv\tsize w \t YES\n",
      "2-12_B-ol5-aq15_i.csv\tsize w \t YES\n",
      "2-12_B-ol5-aq5_i.csv\tsize w \t YES\n",
      "2-12_B-ol7-aq3_i.csv\tsize w \t YES\n",
      "2-12_B-ol10-aq10_i.csv\tsize n \t YES\n",
      "2-12_B-ol15-aq5_i.csv\tsize n \t YES\n",
      "2-12_B-ol2-aq2_i.csv\tsize n \t YES\n",
      "2-12_B-ol3-aq7_i.csv\tsize n \t YES\n",
      "2-12_B-ol5-aq15_i.csv\tsize n \t YES\n",
      "2-12_B-ol5-aq5_i.csv\tsize n \t YES\n",
      "2-12_B-ol7-aq3_i.csv\tsize n \t YES\n",
      "2-12_A-ol0.5-aq0.5_i.csv\tsize w \t YES\n",
      "2-12_A-ol2-aq2_i.csv\tsize w \t YES\n",
      "2-12_A-ol5-aq5_i.csv\tsize w \t YES\n",
      "2-12_A-ol0.5-aq0.5_i.csv\tsize n \t YES\n",
      "2-12_A-ol2-aq2_i.csv\tsize n \t YES\n",
      "2-12_A-ol5-aq5_i.csv\tsize n \t YES\n",
      "2-12_B-ol10-aq10_i.csv\tmeniscus size b \t YES\n",
      "2-12_B-ol15-aq5_i.csv\tmeniscus size b \t YES\n",
      "2-12_B-ol2-aq2_i.csv\tmeniscus size b \t YES\n",
      "2-12_B-ol3-aq7_i.csv\tmeniscus size b \t YES\n",
      "2-12_B-ol5-aq15_i.csv\tmeniscus size b \t YES\n",
      "2-12_B-ol5-aq5_i.csv\tmeniscus size b \t YES\n",
      "2-12_B-ol7-aq3_i.csv\tmeniscus size b \t YES\n",
      "2-12_B-ol10-aq10_i.csv\tmeniscus size f \t YES\n",
      "2-12_B-ol15-aq5_i.csv\tmeniscus size f \t YES\n",
      "2-12_B-ol2-aq2_i.csv\tmeniscus size f \t YES\n",
      "2-12_B-ol3-aq7_i.csv\tmeniscus size f \t YES\n",
      "2-12_B-ol5-aq15_i.csv\tmeniscus size f \t YES\n",
      "2-12_B-ol5-aq5_i.csv\tmeniscus size f \t YES\n",
      "2-12_B-ol7-aq3_i.csv\tmeniscus size f \t YES\n",
      "2-12_A-ol0.5-aq0.5_i.csv\tmeniscus size b \t YES\n",
      "2-12_A-ol2-aq2_i.csv\tmeniscus size b \t YES\n",
      "2-12_A-ol5-aq5_i.csv\tmeniscus size b \t YES\n",
      "2-12_A-ol0.5-aq0.5_i.csv\tmeniscus size f \t YES\n",
      "2-12_A-ol2-aq2_i.csv\tmeniscus size f \t YES\n",
      "2-12_A-ol5-aq5_i.csv\tmeniscus size f \t YES\n",
      "2-12_B-ol10-aq10_i.csv\tvelocity w \t YES\n",
      "2-12_B-ol15-aq5_i.csv\tvelocity w \t YES\n",
      "2-12_B-ol2-aq2_i.csv\tvelocity w \t YES\n",
      "2-12_B-ol3-aq7_i.csv\tvelocity w \t YES\n",
      "2-12_B-ol5-aq15_i.csv\tvelocity w \t YES\n",
      "2-12_B-ol5-aq5_i.csv\tvelocity w \t YES\n",
      "2-12_B-ol7-aq3_i.csv\tvelocity w \t YES\n",
      "2-12_B-ol10-aq10_i.csv\tvelocity n \t YES\n",
      "2-12_B-ol15-aq5_i.csv\tvelocity n \t YES\n",
      "2-12_B-ol2-aq2_i.csv\tvelocity n \t YES\n",
      "2-12_B-ol3-aq7_i.csv\tvelocity n \t YES\n",
      "2-12_B-ol5-aq15_i.csv\tvelocity n \t YES\n",
      "2-12_B-ol5-aq5_i.csv\tvelocity n \t YES\n",
      "2-12_B-ol7-aq3_i.csv\tvelocity n \t YES\n",
      "2-12_A-ol0.5-aq0.5_i.csv\tvelocity w \t YES\n",
      "2-12_A-ol2-aq2_i.csv\tvelocity w \t YES\n",
      "2-12_A-ol5-aq5_i.csv\tvelocity w \t YES\n",
      "2-12_A-ol0.5-aq0.5_i.csv\tvelocity n \t YES\n",
      "2-12_A-ol2-aq2_i.csv\tvelocity n \t YES\n",
      "2-12_A-ol5-aq5_i.csv\tvelocity n \t YES\n"
     ]
    }
   ],
   "source": [
    "# Electronic dataframes -----------------------------------\n",
    "# temporal distance\n",
    "E_B_temp_dist_1   = np.array(ufloat_converter(np.array(df_reader(label_E_B, 'Temporal distance 1 [s]'))))\n",
    "E_B_temp_dist_2   = np.array(ufloat_converter(np.array(df_reader(label_E_B, 'Temporal distance 2 [s]'))))\n",
    "E_B_temp_dist_avg = (E_B_temp_dist_1 + E_B_temp_dist_2)/2\n",
    "E_A_temp_dist_1   = np.array(ufloat_converter(np.array(df_reader(label_E_A, 'Temporal distance 1 [s]'))))\n",
    "E_A_temp_dist_2   = np.array(ufloat_converter(np.array(df_reader(label_E_A, 'Temporal distance 2 [s]'))))\n",
    "E_A_temp_dist_avg = (E_A_temp_dist_1 + E_A_temp_dist_2)/2\n",
    "# temporal size\n",
    "E_B_temp_size_1   = np.array(ufloat_converter(np.array(df_reader(label_E_B, 'temporal size 1 [s]'))))\n",
    "E_B_temp_size_2   = np.array(ufloat_converter(np.array(df_reader(label_E_B, 'temporal size 2 [s]'))))\n",
    "E_B_temp_size_avg = (E_B_temp_size_1 + E_B_temp_size_2)/2\n",
    "E_A_temp_size_1   = np.array(ufloat_converter(np.array(df_reader(label_E_A, 'temporal size 1 [s]'))))\n",
    "E_A_temp_size_2   = np.array(ufloat_converter(np.array(df_reader(label_E_A, 'temporal size 2 [s]'))))\n",
    "E_A_temp_size_avg = (E_A_temp_size_1 + E_A_temp_size_2)/2\n",
    "# temporal period\n",
    "E_B_temp_peri_1   = np.array(ufloat_converter(np.array(df_reader(label_E_B, 'temporal period 1 [s]'))))\n",
    "E_B_temp_peri_2   = np.array(ufloat_converter(np.array(df_reader(label_E_B, 'temporal period 2 [s]'))))\n",
    "E_B_temp_peri_avg = (E_B_temp_peri_1 + E_B_temp_peri_2)/2\n",
    "E_A_temp_peri_1   = np.array(ufloat_converter(np.array(df_reader(label_E_A, 'temporal period 1 [s]'))))\n",
    "E_A_temp_peri_2   = np.array(ufloat_converter(np.array(df_reader(label_E_A, 'temporal period 2 [s]'))))\n",
    "E_A_temp_peri_avg = (E_A_temp_peri_1 + E_A_temp_peri_2)/2\n",
    "# dt d)etectors\n",
    "E_B_dt_detectrs   = np.array(ufloat_converter(np.array(df_reader(label_E_B, 'dt detectors [s]'))))\n",
    "E_A_dt_detectrs   = np.array(ufloat_converter(np.array(df_reader(label_E_A, 'dt detectors [s]'))))\n",
    "# velocity\n",
    "E_B_velocities    = np.array(ufloat_converter(np.array(df_reader(label_E_B, 'velocity [s]'))))\n",
    "E_A_velocities    = np.array(ufloat_converter(np.array(df_reader(label_E_A, 'velocity [s]'))))\n",
    "# spatial size\n",
    "E_B_spat_size_1   = np.array(ufloat_converter(np.array(df_reader(label_E_B, 'spatial size 1 [s]'))))\n",
    "E_B_spat_size_2   = np.array(ufloat_converter(np.array(df_reader(label_E_B, 'spatial size 2 [s]'))))\n",
    "E_B_spat_size_avg = (E_B_spat_size_1 + E_B_spat_size_2)/2\n",
    "E_A_spat_size_1   = np.array(ufloat_converter(np.array(df_reader(label_E_A, 'spatial size 1 [s]'))))\n",
    "E_A_spat_size_2   = np.array(ufloat_converter(np.array(df_reader(label_E_A, 'spatial size 2 [s]'))))\n",
    "E_A_spat_size_avg = (E_A_spat_size_1 + E_A_spat_size_2)/2\n",
    "# spatial distance\n",
    "E_B_spat_dist_1   = np.array(ufloat_converter(np.array(df_reader(label_E_B, 'spatial distance 1 [s]'))))\n",
    "E_B_spat_dist_2   = np.array(ufloat_converter(np.array(df_reader(label_E_B, 'spatial distance 2 [s]'))))\n",
    "E_B_spat_dist_avg = (E_B_spat_dist_1 + E_B_spat_dist_2)/2\n",
    "E_A_spat_dist_1   = np.array(ufloat_converter(np.array(df_reader(label_E_A, 'spatial distance 1 [s]'))))\n",
    "E_A_spat_dist_2   = np.array(ufloat_converter(np.array(df_reader(label_E_A, 'spatial distance 2 [s]'))))\n",
    "E_A_spat_dist_avg = (E_A_spat_dist_1 + E_A_spat_dist_2)/2\n",
    "# fiber spatial size\n",
    "E_B_fibe_size_1   = np.array(ufloat_converter(np.array(df_reader(label_E_B, 'fiber spatial size 1 [s]'))))\n",
    "E_B_fibe_size_2   = np.array(ufloat_converter(np.array(df_reader(label_E_B, 'fiber spatial size 2 [s]'))))\n",
    "E_B_fibe_size_avg = (E_B_fibe_size_1 + E_B_fibe_size_2)/2\n",
    "E_A_fibe_size_1   = np.array(ufloat_converter(np.array(df_reader(label_E_A, 'fiber spatial size 1 [s]'))))\n",
    "E_A_fibe_size_2   = np.array(ufloat_converter(np.array(df_reader(label_E_A, 'fiber spatial size 2 [s]'))))\n",
    "E_A_fibe_size_avg = (E_A_fibe_size_1 + E_A_fibe_size_2)/2\n",
    "\n",
    "# Image dataframes -----------------------------------------\n",
    "# distance\n",
    "I_B_distance_w = np.array(ufloat_converter(np.array(df_reader(label_I_B, 'distance w [mm]'))))\n",
    "I_B_distance_n = np.array(ufloat_converter(np.array(df_reader(label_I_B, 'distance n [mm]'))))\n",
    "I_A_distance_w = np.array(ufloat_converter(np.array(df_reader(label_I_A, 'distance w [mm]'))))\n",
    "I_A_distance_n = np.array(ufloat_converter(np.array(df_reader(label_I_A, 'distance n [mm]'))))\n",
    "# wavelength\n",
    "I_B_wavelength = np.array(ufloat_converter(np.array(df_reader(label_I_B, 'wavelength [mm]'))))\n",
    "I_A_wavelength = np.array(ufloat_converter(np.array(df_reader(label_I_A, 'wavelength [mm]'))))\n",
    "# size\n",
    "I_B_size_w     = np.array(ufloat_converter(np.array(df_reader(label_I_B, 'size w [mm]'))))\n",
    "I_B_size_n     = np.array(ufloat_converter(np.array(df_reader(label_I_B, 'size n [mm]'))))\n",
    "I_A_size_w     = np.array(ufloat_converter(np.array(df_reader(label_I_A, 'size w [mm]'))))\n",
    "I_A_size_n     = np.array(ufloat_converter(np.array(df_reader(label_I_A, 'size n [mm]'))))\n",
    "# meniscus size\n",
    "I_B_meniscus_b = np.array(ufloat_converter(np.array(df_reader(label_I_B, 'meniscus size b [mm]'))))\n",
    "I_B_meniscus_f = np.array(ufloat_converter(np.array(df_reader(label_I_B, 'meniscus size f [mm]'))))\n",
    "I_A_meniscus_b = np.array(ufloat_converter(np.array(df_reader(label_I_A, 'meniscus size b [mm]'))))\n",
    "I_A_meniscus_f = np.array(ufloat_converter(np.array(df_reader(label_I_A, 'meniscus size f [mm]'))))\n",
    "# velocity\n",
    "I_B_velocity_w = np.array(ufloat_converter(np.array(df_reader(label_I_B, 'velocity w [mm/s]'))))\n",
    "I_B_velocity_n = np.array(ufloat_converter(np.array(df_reader(label_I_B, 'velocity n [mm/s]'))))\n",
    "I_A_velocity_w = np.array(ufloat_converter(np.array(df_reader(label_I_A, 'velocity w [mm/s]'))))\n",
    "I_A_velocity_n = np.array(ufloat_converter(np.array(df_reader(label_I_A, 'velocity n [mm/s]'))))\n",
    "\n",
    "# fluxes --------------------------------------------------\n",
    "# electronic - chip B\n",
    "Flux_aq_E_B  = np.array(label_E_B[:,4]).astype(float)\n",
    "Flux_ol_E_B  = np.array(label_E_B[:,5]).astype(float)\n",
    "Flux_tot_E_B = Flux_aq_E_B + Flux_ol_E_B\n",
    "# electronic - chip A\n",
    "Flux_aq_E_A  = np.array(label_E_A[:,4]).astype(float)\n",
    "Flux_ol_E_A  = np.array(label_E_A[:,5]).astype(float)\n",
    "Flux_tot_E_A = Flux_aq_E_A + Flux_ol_E_A\n",
    "# image - chip B\n",
    "Flux_aq_I_B  = np.array(label_I_B[:,4]).astype(float)\n",
    "Flux_ol_I_B  = np.array(label_I_B[:,5]).astype(float)\n",
    "Flux_tot_I_B = Flux_aq_I_B + Flux_ol_I_B\n",
    "# image - chip A\n",
    "Flux_aq_I_A  = np.array(label_I_A[:,4]).astype(float)\n",
    "Flux_ol_I_A  = np.array(label_I_A[:,5]).astype(float)\n",
    "Flux_tot_I_A = Flux_aq_I_A + Flux_ol_I_A\n"
   ]
  },
  {
   "cell_type": "markdown",
   "metadata": {
    "heading_collapsed": true
   },
   "source": [
    "### Wavelength (period) vs total flux"
   ]
  },
  {
   "cell_type": "code",
   "execution_count": 8,
   "metadata": {
    "hidden": true
   },
   "outputs": [
    {
     "data": {
      "image/png": "[encoded data removed]",
      "text/plain": [
       "<Figure size 720x540 with 1 Axes>"
      ]
     },
     "metadata": {
      "needs_background": "light"
     },
     "output_type": "display_data"
    }
   ],
   "source": [
    "fig = plt.figure(figsize=(10,7.5))\n",
    "\n",
    "ax = fig.add_subplot()\n",
    "ax.set_xlabel('Total flux $[\\mu L/min]$')\n",
    "ax.set_ylabel('Temporal period $[s]$')\n",
    "\n",
    "uplt.plot(Flux_tot_E_A, E_A_temp_peri_avg, ax = ax,  fmt='o', alpha = 1., color='green', label = 'chip A')\n",
    "uplt.plot(Flux_tot_E_B, E_B_temp_peri_avg, ax = ax,  fmt='o', alpha = 1., color='blue', label = 'chip B') \n",
    "\n",
    "ax.legend(loc='best')\n",
    "plt.title('Temporal period as function of the total flux', loc='center', pad=15)\n",
    "fig.tight_layout()\n",
    "plt.show()"
   ]
  },
  {
   "cell_type": "code",
   "execution_count": 9,
   "metadata": {
    "hidden": true
   },
   "outputs": [
    {
     "data": {
      "image/png": "[encoded data removed]",
      "text/plain": [
       "<Figure size 720x540 with 1 Axes>"
      ]
     },
     "metadata": {
      "needs_background": "light"
     },
     "output_type": "display_data"
    }
   ],
   "source": [
    "fig = plt.figure(figsize=(10,7.5))\n",
    "\n",
    "ax = fig.add_subplot()\n",
    "ax.set_xlabel('Total flux $[\\mu L/min]$')\n",
    "ax.set_ylabel('Wavelength $[mm]$')\n",
    "\n",
    "uplt.plot(Flux_tot_I_A, I_A_wavelength, ax = ax,  fmt='o', alpha = 1., color='green', label = 'chip A')\n",
    "uplt.plot(Flux_tot_I_B, I_B_wavelength, ax = ax,  fmt='o', alpha = 1., color='blue', label = 'chip B') \n",
    "\n",
    "ax.legend(loc='best')\n",
    "plt.title('Wavelength as function of the total flux', loc='center', pad=15)\n",
    "fig.tight_layout()\n",
    "plt.show()"
   ]
  },
  {
   "cell_type": "markdown",
   "metadata": {
    "heading_collapsed": true
   },
   "source": [
    "### ratio distance/size vs ratio aq flux/ oil flux"
   ]
  },
  {
   "cell_type": "code",
   "execution_count": 19,
   "metadata": {
    "hidden": true
   },
   "outputs": [
    {
     "data": {
      "image/png": "[encoded data removed]",
      "text/plain": [
       "<Figure size 720x540 with 1 Axes>"
      ]
     },
     "metadata": {
      "needs_background": "light"
     },
     "output_type": "display_data"
    }
   ],
   "source": [
    "# flux ratio\n",
    "Flux_ratio_I_A = Flux_aq_I_A/Flux_ol_I_A              \n",
    "Flux_ratio_I_B = Flux_aq_I_B/Flux_ol_I_B\n",
    "Flux_ratio_E_A = Flux_aq_E_A/Flux_ol_E_A\n",
    "Flux_ratio_E_B = Flux_aq_E_B/Flux_ol_E_B\n",
    "# size/distance ratio\n",
    "E_A_sd_ratio   = E_A_spat_dist_avg/E_A_spat_size_avg  # electronic - chip A\n",
    "E_B_sd_ratio   = E_B_spat_dist_avg/E_B_spat_size_avg  # electronic - chip B\n",
    "I_A_w_sd_ratio = I_A_distance_w/I_A_size_w            # image (wide) - chip A\n",
    "I_B_w_sd_ratio = I_B_distance_w/I_B_size_w            # image (wide) - chip B\n",
    "I_A_n_sd_ratio = I_A_distance_n/I_A_size_n            # image (narrow) - chip A\n",
    "I_B_n_sd_ratio = I_B_distance_n/I_B_size_n            # image (narrow) - chip B\n",
    "\n",
    "\n",
    "fig = plt.figure(figsize=(10,7.5))\n",
    "ax = fig.add_subplot()\n",
    "ax.set_xlabel('Flux ratio $(q_{water}/q_{oil})$')\n",
    "ax.set_ylabel('Spatial ratio $(distance/size)$')\n",
    "\n",
    "#uplt.plot(Flux_ratio_E_A, E_A_sd_ratio, ax = ax,  fmt='o', alpha = 1., color='green', label = 'el. - chip A')\n",
    "uplt.plot(Flux_ratio_E_B, E_B_sd_ratio,   ax = ax,  fmt='o', alpha = 1., color='green',  label = 'el. - chip B') \n",
    "uplt.plot(Flux_ratio_I_A, I_A_w_sd_ratio, ax = ax,  fmt='o', alpha = 1., color='blue',   label = 'im.(wide) - chip A') \n",
    "uplt.plot(Flux_ratio_I_A, I_A_n_sd_ratio, ax = ax,  fmt='o', alpha = 1., color='cyan',   label = 'im.(narrow) - chip A')\n",
    "uplt.plot(Flux_ratio_I_B, I_B_w_sd_ratio, ax = ax,  fmt='o', alpha = 1., color='brown',  label = 'im.(wide) - chip B')  \n",
    "uplt.plot(Flux_ratio_I_B, I_B_n_sd_ratio, ax = ax,  fmt='o', alpha = 1., color='yellow', label = 'im.(narrow) - chip B') \n",
    "\n",
    "ax.legend(loc='best')\n",
    "plt.title('Spatial ratio as function of the flux ratio', loc='center', pad=15)\n",
    "fig.tight_layout()\n",
    "plt.show()"
   ]
  },
  {
   "cell_type": "markdown",
   "metadata": {
    "heading_collapsed": true
   },
   "source": [
    "### fiber spatial size"
   ]
  },
  {
   "cell_type": "code",
   "execution_count": 24,
   "metadata": {
    "hidden": true
   },
   "outputs": [
    {
     "data": {
      "image/png": "[encoded data removed]",
      "text/plain": [
       "<Figure size 720x540 with 1 Axes>"
      ]
     },
     "metadata": {
      "needs_background": "light"
     },
     "output_type": "display_data"
    }
   ],
   "source": [
    "fig = plt.figure(figsize=(10,7.5))\n",
    "\n",
    "ax = fig.add_subplot()\n",
    "ax.set_xlabel('dataset index')\n",
    "ax.set_ylabel('optical fiber size $[mm]$')\n",
    "\n",
    "data_idx_B = np.arange(1, len(E_B_fibe_size_avg)+1, 1)\n",
    "\n",
    "#uplt.plot(Flux_tot_E_A, E_A_fibe_size_avg, ax = ax,  fmt='o', alpha = 1., color='green', label = 'chip A')\n",
    "uplt.plot(data_idx_B, E_B_fibe_size_avg, ax = ax,  fmt='o', alpha = 1., color='blue', label = 'chip B') \n",
    "\n",
    "ax.legend(loc='best')\n",
    "plt.title('Spatial size of the optical fibers', loc='center', pad=15)\n",
    "fig.tight_layout()\n",
    "plt.show()"
   ]
  },
  {
   "cell_type": "markdown",
   "metadata": {
    "heading_collapsed": true
   },
   "source": [
    "### velocity "
   ]
  },
  {
   "cell_type": "code",
   "execution_count": 17,
   "metadata": {
    "hidden": true
   },
   "outputs": [
    {
     "name": "stdout",
     "output_type": "stream",
     "text": [
      "[4.057568517278263+/-0.03042761455876297\n",
      " 4.504961776426984+/-0.012634489891600651\n",
      " 0.8621993917420518+/-0.08269715740098671\n",
      " 2.2377418544657597+/-0.091256219445187\n",
      " 8.267345666401518+/-0.16831684940554806\n",
      " 4.661699635062902+/-0.06890432407054847\n",
      " 2.259454452293714+/-0.21394669022344148\n",
      " 2.3973126969283007+/-0.1778065107049911]\n",
      "[4.057568517278263+/-0.03042761455876297\n",
      " 4.504961776426984+/-0.012634489891600651\n",
      " 4.504961776426984+/-0.012634489891600651\n",
      " 0.8621993917420518+/-0.08269715740098671\n",
      " 2.2377418544657597+/-0.091256219445187\n",
      " 8.267345666401518+/-0.16831684940554806\n",
      " 4.661699635062902+/-0.06890432407054847\n",
      " 2.259454452293714+/-0.21394669022344148\n",
      " 2.3973126969283007+/-0.1778065107049911]\n"
     ]
    },
    {
     "data": {
      "image/png": "[encoded data removed]",
      "text/plain": [
       "<Figure size 720x540 with 1 Axes>"
      ]
     },
     "metadata": {
      "needs_background": "light"
     },
     "output_type": "display_data"
    }
   ],
   "source": [
    "fig = plt.figure(figsize=(10,7.5))\n",
    "\n",
    "ax = fig.add_subplot()\n",
    "ax.set_xlabel('Total flux $[\\mu L/min]$')\n",
    "ax.set_ylabel('Velocity $[mm/s]$')\n",
    "\n",
    "# BUGGISSIMO: stranamente l'array E_B_velocities ha una riga in più che è un doppione (elimino manualmente)\n",
    "E_B_velocities_x = np.delete(E_B_velocities, 2, 0) \n",
    "\n",
    "print(E_B_velocities_x)\n",
    "print(E_B_velocities)\n",
    "\n",
    "#uplt.plot(Flux_tot_E_A, E_A_velocities, ax = ax,  fmt='o', alpha = 1., color='green', label = 'chip A')\n",
    "uplt.plot(Flux_tot_E_B, E_B_velocities_x, ax = ax,  fmt='o', alpha = 1., color='green', label = 'el. - chip B')\n",
    "uplt.plot(Flux_tot_I_B, I_B_velocity_w, ax = ax,  fmt='o', alpha = 1., color='brown', label = 'im.(wide) - chip B')\n",
    "uplt.plot(Flux_tot_I_B, I_B_velocity_n, ax = ax,  fmt='o', alpha = 1., color='yellow', label = 'im.(narrow) - chip B')\n",
    "\n",
    "ax.legend(loc='best')\n",
    "plt.title('Velocity as function of the total flux', loc='center', pad=15)\n",
    "fig.tight_layout()\n",
    "plt.show()"
   ]
  },
  {
   "cell_type": "markdown",
   "metadata": {
    "heading_collapsed": true
   },
   "source": [
    "### meniscus size"
   ]
  },
  {
   "cell_type": "code",
   "execution_count": 32,
   "metadata": {
    "hidden": true
   },
   "outputs": [
    {
     "data": {
      "image/png": "[encoded data removed]",
      "text/plain": [
       "<Figure size 720x540 with 1 Axes>"
      ]
     },
     "metadata": {
      "needs_background": "light"
     },
     "output_type": "display_data"
    }
   ],
   "source": [
    "fig = plt.figure(figsize=(10,7.5))\n",
    "\n",
    "ax = fig.add_subplot()\n",
    "ax.set_xlabel('Total flux $[\\mu L/min]$')\n",
    "ax.set_ylabel('meniscus size $[mm]$')\n",
    "\n",
    "#uplt.plot(Flux_tot_E_A, E_A_fibe_size_avg, ax = ax,  fmt='o', alpha = 1., color='green', label = 'chip A')\n",
    "uplt.plot(Flux_tot_I_A, I_A_meniscus_f, ax = ax,  fmt='o', alpha = 1., color='cyan', label = 'chip A (front)') \n",
    "uplt.plot(Flux_tot_I_A, I_A_meniscus_b, ax = ax,  fmt='o', alpha = 1., color='blue', label = 'chip A (back)')\n",
    "uplt.plot(Flux_tot_I_B, I_B_meniscus_f, ax = ax,  fmt='o', alpha = 1., color='yellow', label = 'chip B (front)') \n",
    "uplt.plot(Flux_tot_I_B, I_B_meniscus_b, ax = ax,  fmt='o', alpha = 1., color='brown', label = 'chip B (back)')\n",
    "\n",
    "ax.legend(loc='best')\n",
    "plt.title('frontal and posterior menisci size as function of the total flux', loc='center', pad=15)\n",
    "fig.tight_layout()\n",
    "plt.show()"
   ]
  },
  {
   "cell_type": "markdown",
   "metadata": {
    "hidden": true
   },
   "source": []
  },
  {
   "cell_type": "markdown",
   "metadata": {
    "hidden": true
   },
   "source": []
  }
 ],
 "metadata": {
  "kernelspec": {
   "display_name": "Python 3",
   "language": "python",
   "name": "python3"
  },
  "language_info": {
   "codemirror_mode": {
    "name": "ipython",
    "version": 3
   },
   "file_extension": ".py",
   "mimetype": "text/x-python",
   "name": "python",
   "nbconvert_exporter": "python",
   "pygments_lexer": "ipython3",
   "version": "3.8.3"
  }
 },
 "nbformat": 4,
 "nbformat_minor": 4
}
