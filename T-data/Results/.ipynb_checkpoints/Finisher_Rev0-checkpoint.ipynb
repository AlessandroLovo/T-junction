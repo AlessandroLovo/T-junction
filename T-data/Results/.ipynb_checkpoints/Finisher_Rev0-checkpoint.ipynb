{
 "cells": [
  {
   "cell_type": "markdown",
   "metadata": {},
   "source": [
    "### Note"
   ]
  },
  {
   "cell_type": "raw",
   "metadata": {},
   "source": [
    "Example of a dataframes (electronic analysis) with its 14 properties\n",
    "\n",
    "                    property        mean  mean std     sigma  sigma std\n",
    "0    Temporal distance 1 [s]    7.640199  0.107665  1.974752   0.107666\n",
    "1    Temporal distance 2 [s]    6.830958  0.729017  2.355629   0.729057\n",
    "2        temporal size 1 [s]    2.185974  0.031900  0.583609   0.031901\n",
    "3        temporal size 2 [s]    2.794406  0.049398  0.479029   0.049396\n",
    "4      temporal period 1 [s]    9.869812  0.123706  1.889908   0.123762\n",
    "5      temporal period 2 [s]   11.456947  0.143627  0.866993   0.143619\n",
    "6           dt detectors [s]  301.577201  1.326848  9.863521   1.326852\n",
    "7               velocity [s]    0.165055  0.000779  0.003909   0.000779\n",
    "8         spatial size 1 [s]    0.356735  0.005391  0.097737   0.005391\n",
    "9         spatial size 2 [s]    0.468290  0.006786  0.052036   0.006786\n",
    "10    spatial distance 1 [s]    1.238815  0.019558  0.317515   0.019559\n",
    "11    spatial distance 2 [s]    1.234857  0.168602  0.636487   0.169343\n",
    "12  fiber spatial size 1 [s]    0.130811  0.002492  0.048166   0.002492\n",
    "13  fiber spatial size 2 [s]    0.241989  0.017439  0.108778   0.017479"
   ]
  },
  {
   "cell_type": "raw",
   "metadata": {},
   "source": [
    "Example of a dataframes (image analysis) with its 9 properties\n",
    "\n",
    "               property      mean  mean std     sigma  sigma std\n",
    "0       distance w [mm]  1.059666  0.006866  0.218100   0.006866\n",
    "1       distance n [mm]  1.254990  0.007145  0.225758   0.007145\n",
    "2       wavelength [mm]  2.253316  0.008406  0.252762   0.008406\n",
    "3           size w [mm]  1.207421  0.009926  0.184841   0.009926\n",
    "4           size n [mm]  1.009947  0.008700  0.187711   0.008699\n",
    "5  meniscus size b [mm]  0.102872  0.000389  0.033605   0.000389\n",
    "6  meniscus size f [mm]  0.073849  0.000672  0.028310   0.000672\n",
    "7     velocity w [mm/s]  0.316939  0.004018  0.173666   0.004019\n",
    "8     velocity n [mm/s]  0.316098  0.003649  0.181611   0.003651"
   ]
  },
  {
   "cell_type": "raw",
   "metadata": {},
   "source": [
    "Example of a label [filename, day, month, chip, aq_flux, ol_flux, analysis]\n",
    "\n",
    "['2-12_A-ol0.5-aq0.5_i.csv' '2.0' '12.0' 'A' '0.5' '0.5' 'I']"
   ]
  },
  {
   "cell_type": "raw",
   "metadata": {},
   "source": [
    "Common commands\n",
    "\n",
    "1) fn_reader(filename) \n",
    "    reads the FileName and returns a label which identifies the dataset\n",
    "    label = [filename, day, month, chip, aq_flux, ol_flux, analysis]\n",
    "    \n",
    "2) df = pd.read_csv(label[i][0]) \n",
    "    returns the dataframe of the i° file\n",
    "    \n",
    "3) def df_reader(label, target)\n",
    "    returns the vector of the values of the property \"target\" indexed by the label\n",
    "    values = [mean, mean std, sigma, sigma std]\n",
    "\n",
    "4)"
   ]
  },
  {
   "cell_type": "raw",
   "metadata": {},
   "source": [
    "PROBLEMS \n",
    "\n",
    "WARNING: fare le medie tra sig.1 e sig.2 nei dataframe elettronici\n",
    "WARNING: trasformare i dati in ufloat e usare uplot\n",
    "WARNING: chip A e chip B sono considerati uguali (al momento)"
   ]
  },
  {
   "cell_type": "markdown",
   "metadata": {},
   "source": [
    "### Library"
   ]
  },
  {
   "cell_type": "code",
   "execution_count": 19,
   "metadata": {},
   "outputs": [],
   "source": [
    "import numpy as np\n",
    "import pandas as pd\n",
    "import matplotlib.pyplot as plt"
   ]
  },
  {
   "cell_type": "code",
   "execution_count": 20,
   "metadata": {},
   "outputs": [
    {
     "ename": "NameError",
     "evalue": "name 'matplotlib' is not defined",
     "output_type": "error",
     "traceback": [
      "\u001b[1;31m---------------------------------------------------------------------------\u001b[0m",
      "\u001b[1;31mNameError\u001b[0m                                 Traceback (most recent call last)",
      "\u001b[1;32m<ipython-input-20-8c49bb8e1fd1>\u001b[0m in \u001b[0;36m<module>\u001b[1;34m\u001b[0m\n\u001b[0;32m      8\u001b[0m \u001b[0mplt\u001b[0m\u001b[1;33m.\u001b[0m\u001b[0mrc\u001b[0m\u001b[1;33m(\u001b[0m\u001b[1;34m'figure'\u001b[0m\u001b[1;33m,\u001b[0m \u001b[0mtitlesize\u001b[0m \u001b[1;33m=\u001b[0m \u001b[0mFontSize\u001b[0m\u001b[1;33m)\u001b[0m \u001b[1;31m# fontsize of the figure title\u001b[0m\u001b[1;33m\u001b[0m\u001b[1;33m\u001b[0m\u001b[0m\n\u001b[0;32m      9\u001b[0m \u001b[1;33m\u001b[0m\u001b[0m\n\u001b[1;32m---> 10\u001b[1;33m matplotlib.rcParams.update({\n\u001b[0m\u001b[0;32m     11\u001b[0m     \u001b[1;34m'font.family'\u001b[0m\u001b[1;33m:\u001b[0m \u001b[1;34m'serif'\u001b[0m\u001b[1;33m,\u001b[0m\u001b[1;33m\u001b[0m\u001b[1;33m\u001b[0m\u001b[0m\n\u001b[0;32m     12\u001b[0m     \u001b[1;34m'font.size'\u001b[0m \u001b[1;33m:\u001b[0m  \u001b[1;36m18\u001b[0m\u001b[1;33m,\u001b[0m\u001b[1;33m\u001b[0m\u001b[1;33m\u001b[0m\u001b[0m\n",
      "\u001b[1;31mNameError\u001b[0m: name 'matplotlib' is not defined"
     ]
    }
   ],
   "source": [
    "# Latex Plot\n",
    "FontSize = 18\n",
    "plt.rc('axes',   titlesize = FontSize) # fontsize of the axes title\n",
    "plt.rc('axes',   labelsize = FontSize) # fontsize of the x and y labels\n",
    "plt.rc('xtick',  labelsize = FontSize) # fontsize of the tick labels\n",
    "plt.rc('ytick',  labelsize = FontSize) # fontsize of the tick labels\n",
    "plt.rc('legend', fontsize  = FontSize) # legend fontsize\n",
    "plt.rc('figure', titlesize = FontSize) # fontsize of the figure title\n",
    "\n",
    "matplotlib.rcParams.update({\n",
    "    'font.family': 'serif',\n",
    "    'font.size' :  18,\n",
    "    'text.usetex': True,\n",
    "    'pgf.rcfonts': False,\n",
    "})"
   ]
  },
  {
   "cell_type": "code",
   "execution_count": 21,
   "metadata": {},
   "outputs": [],
   "source": [
    "# reads the FileName and returns a label which identifies the dataset\n",
    "# label = [filename, day, month, chip, aq_flux, ol_flux, analysis]\n",
    "def fn_reader(filename):\n",
    "    \n",
    "    # return a list of floated values from the text string\n",
    "    import re\n",
    "    def get_numbers_from_filename(filename):\n",
    "        z = re.findall(r'\\d+(?:\\.\\d+)?', filename)\n",
    "        return [float(z[s]) for s in range(len(z))]\n",
    "    \n",
    "    \n",
    "    chip = 'None'\n",
    "    if (filename.find('A') != -1): \n",
    "        chip = 'A'\n",
    "    if (filename.find('B') != -1): \n",
    "        chip = 'B'\n",
    "    analysis = 'None'\n",
    "    if (filename.find('i') != -1): \n",
    "        analysis  = 'I'\n",
    "    if (filename.find('e') != -1): \n",
    "        analysis  = 'E'\n",
    "    date_d = get_numbers_from_filename(filename)[0]\n",
    "    date_m = get_numbers_from_filename(filename)[1]\n",
    "    ol     = get_numbers_from_filename(filename)[2]\n",
    "    aq     = get_numbers_from_filename(filename)[3]\n",
    "    label  = [filename, date_d, date_m, chip, ol, aq, analysis]\n",
    "        \n",
    "    return label"
   ]
  },
  {
   "cell_type": "code",
   "execution_count": 22,
   "metadata": {},
   "outputs": [],
   "source": [
    "# returns the vector of the mean values of the property \"target\" indexed by the label\n",
    "def df_reader(label, target):\n",
    "    \n",
    "    target = target.split('[')[0]\n",
    "    \n",
    "    values = []\n",
    "\n",
    "    for i in np.arange(len(label)):        # runs through the files indexed by the label\n",
    "        df = pd.read_csv(label[i][0])      # dataframe of the i° file\n",
    "        #print(df)\n",
    "        indexNamesArr  = df.index.values   # names of the rows of df\n",
    "        \n",
    "        for x in indexNamesArr:                  # runs through the rows of each dataframe\n",
    "            if df.loc[x]['property'].split('[')[0] == target:  # finds the row of the property \"target\"\n",
    "                values.append(df.loc[x][1:])     # gets the values of the property\n",
    "                print(label[i][0] + '\\t' + target + '\\t YES')\n",
    "                check = 'true'\n",
    "        \n",
    "        # warning: the dataframe has not the \"target\" property \n",
    "        if check == 'false':\n",
    "            print(label[i][0] + '\\t' + target + '\\t NO')\n",
    "            values.append([np.nan, np.nan, np.nan, np.nan])\n",
    "        \n",
    "        check  = 'false'\n",
    "                \n",
    "    return values\n",
    "\n"
   ]
  },
  {
   "cell_type": "markdown",
   "metadata": {},
   "source": [
    "### Importing data"
   ]
  },
  {
   "cell_type": "code",
   "execution_count": 23,
   "metadata": {},
   "outputs": [
    {
     "name": "stdout",
     "output_type": "stream",
     "text": [
      "Label_E:\n",
      "\n",
      "[['2-12_A-ol0.5-aq0.5_e.csv' '2.0' '12.0' 'A' '0.5' '0.5' 'E']\n",
      " ['2-12_B-ol10-aq10_e.csv' '2.0' '12.0' 'B' '10.0' '10.0' 'E']\n",
      " ['2-12_B-ol15-aq5_e.csv' '2.0' '12.0' 'B' '15.0' '5.0' 'E']\n",
      " ['2-12_B-ol2-aq2_e.csv' '2.0' '12.0' 'B' '2.0' '2.0' 'E']\n",
      " ['2-12_B-ol3-aq7_e.csv' '2.0' '12.0' 'B' '3.0' '7.0' 'E']\n",
      " ['2-12_B-ol30-aq10_e.csv' '2.0' '12.0' 'B' '30.0' '10.0' 'E']\n",
      " ['2-12_B-ol5-aq15_e.csv' '2.0' '12.0' 'B' '5.0' '15.0' 'E']\n",
      " ['2-12_B-ol5-aq5_e.csv' '2.0' '12.0' 'B' '5.0' '5.0' 'E']\n",
      " ['2-12_B-ol7-aq3_e.csv' '2.0' '12.0' 'B' '7.0' '3.0' 'E']]\n",
      "\n",
      "\n",
      " Label_I:\n",
      "\n",
      "[['2-12_A-ol0.5-aq0.5_i.csv' '2.0' '12.0' 'A' '0.5' '0.5' 'I']\n",
      " ['2-12_A-ol2-aq2_i.csv' '2.0' '12.0' 'A' '2.0' '2.0' 'I']\n",
      " ['2-12_A-ol5-aq5_i.csv' '2.0' '12.0' 'A' '5.0' '5.0' 'I']\n",
      " ['2-12_B-ol10-aq10_i.csv' '2.0' '12.0' 'B' '10.0' '10.0' 'I']\n",
      " ['2-12_B-ol15-aq5_i.csv' '2.0' '12.0' 'B' '15.0' '5.0' 'I']\n",
      " ['2-12_B-ol2-aq2_i.csv' '2.0' '12.0' 'B' '2.0' '2.0' 'I']\n",
      " ['2-12_B-ol3-aq7_i.csv' '2.0' '12.0' 'B' '3.0' '7.0' 'I']\n",
      " ['2-12_B-ol5-aq15_i.csv' '2.0' '12.0' 'B' '5.0' '15.0' 'I']\n",
      " ['2-12_B-ol5-aq5_i.csv' '2.0' '12.0' 'B' '5.0' '5.0' 'I']\n",
      " ['2-12_B-ol7-aq3_i.csv' '2.0' '12.0' 'B' '7.0' '3.0' 'I']]\n"
     ]
    }
   ],
   "source": [
    "# label = [filename, day, month, chip, aq_flux, ol_flux, analysis]\n",
    "# label_E for electronic analysis\n",
    "# label_I for image analysis\n",
    "\n",
    "import glob, os\n",
    "os.chdir(\"./\")\n",
    "label = [];\n",
    "label_E = []\n",
    "label_I = []\n",
    "i = 0\n",
    "for filename in glob.glob(\"*.csv\"):\n",
    "    label.append(fn_reader(filename))\n",
    "    if (label[i][6] == 'E'):\n",
    "        label_E.append(fn_reader(filename))\n",
    "    if label[i][6] == 'I':\n",
    "        label_I.append(fn_reader(filename))\n",
    "    i = i+1\n",
    "\n",
    "label_E = np.array(label_E)\n",
    "label_I = np.array(label_I)\n",
    "\n",
    "print ('Label_E:\\n')\n",
    "print(label_E)\n",
    "print ('\\n\\n Label_I:\\n')\n",
    "print(label_I)"
   ]
  },
  {
   "cell_type": "markdown",
   "metadata": {},
   "source": [
    "### Data arrangement"
   ]
  },
  {
   "cell_type": "code",
   "execution_count": 24,
   "metadata": {},
   "outputs": [
    {
     "name": "stdout",
     "output_type": "stream",
     "text": [
      "2-12_A-ol0.5-aq0.5_e.csv\tTemporal distance 1 \t YES\n",
      "2-12_B-ol10-aq10_e.csv\tTemporal distance 1 \t YES\n",
      "2-12_B-ol15-aq5_e.csv\tTemporal distance 1 \t YES\n",
      "2-12_B-ol2-aq2_e.csv\tTemporal distance 1 \t YES\n",
      "2-12_B-ol3-aq7_e.csv\tTemporal distance 1 \t YES\n",
      "2-12_B-ol30-aq10_e.csv\tTemporal distance 1 \t YES\n",
      "2-12_B-ol5-aq15_e.csv\tTemporal distance 1 \t YES\n",
      "2-12_B-ol5-aq5_e.csv\tTemporal distance 1 \t YES\n",
      "2-12_B-ol7-aq3_e.csv\tTemporal distance 1 \t YES\n",
      "2-12_A-ol0.5-aq0.5_e.csv\tTemporal distance 2 \t YES\n",
      "2-12_B-ol10-aq10_e.csv\tTemporal distance 2 \t YES\n",
      "2-12_B-ol15-aq5_e.csv\tTemporal distance 2 \t YES\n",
      "2-12_B-ol2-aq2_e.csv\tTemporal distance 2 \t YES\n",
      "2-12_B-ol3-aq7_e.csv\tTemporal distance 2 \t YES\n",
      "2-12_B-ol30-aq10_e.csv\tTemporal distance 2 \t YES\n",
      "2-12_B-ol5-aq15_e.csv\tTemporal distance 2 \t YES\n",
      "2-12_B-ol5-aq5_e.csv\tTemporal distance 2 \t YES\n",
      "2-12_B-ol7-aq3_e.csv\tTemporal distance 2 \t YES\n",
      "2-12_A-ol0.5-aq0.5_e.csv\ttemporal size 1 \t YES\n",
      "2-12_B-ol10-aq10_e.csv\ttemporal size 1 \t YES\n",
      "2-12_B-ol15-aq5_e.csv\ttemporal size 1 \t YES\n",
      "2-12_B-ol2-aq2_e.csv\ttemporal size 1 \t YES\n",
      "2-12_B-ol3-aq7_e.csv\ttemporal size 1 \t YES\n",
      "2-12_B-ol30-aq10_e.csv\ttemporal size 1 \t YES\n",
      "2-12_B-ol5-aq15_e.csv\ttemporal size 1 \t YES\n",
      "2-12_B-ol5-aq5_e.csv\ttemporal size 1 \t YES\n",
      "2-12_B-ol7-aq3_e.csv\ttemporal size 1 \t YES\n",
      "2-12_A-ol0.5-aq0.5_e.csv\ttemporal size 2 \t YES\n",
      "2-12_B-ol10-aq10_e.csv\ttemporal size 2 \t YES\n",
      "2-12_B-ol15-aq5_e.csv\ttemporal size 2 \t YES\n",
      "2-12_B-ol2-aq2_e.csv\ttemporal size 2 \t YES\n",
      "2-12_B-ol3-aq7_e.csv\ttemporal size 2 \t YES\n",
      "2-12_B-ol30-aq10_e.csv\ttemporal size 2 \t YES\n",
      "2-12_B-ol5-aq15_e.csv\ttemporal size 2 \t YES\n",
      "2-12_B-ol5-aq5_e.csv\ttemporal size 2 \t YES\n",
      "2-12_B-ol7-aq3_e.csv\ttemporal size 2 \t YES\n",
      "2-12_A-ol0.5-aq0.5_e.csv\ttemporal period 1 \t YES\n",
      "2-12_B-ol10-aq10_e.csv\ttemporal period 1 \t YES\n",
      "2-12_B-ol15-aq5_e.csv\ttemporal period 1 \t YES\n",
      "2-12_B-ol2-aq2_e.csv\ttemporal period 1 \t NO\n",
      "2-12_B-ol3-aq7_e.csv\ttemporal period 1 \t YES\n",
      "2-12_B-ol30-aq10_e.csv\ttemporal period 1 \t YES\n",
      "2-12_B-ol5-aq15_e.csv\ttemporal period 1 \t YES\n",
      "2-12_B-ol5-aq5_e.csv\ttemporal period 1 \t YES\n",
      "2-12_B-ol7-aq3_e.csv\ttemporal period 1 \t YES\n",
      "2-12_A-ol0.5-aq0.5_e.csv\ttemporal period 2 \t YES\n",
      "2-12_B-ol10-aq10_e.csv\ttemporal period 2 \t YES\n",
      "2-12_B-ol15-aq5_e.csv\ttemporal period 2 \t YES\n",
      "2-12_B-ol2-aq2_e.csv\ttemporal period 2 \t NO\n",
      "2-12_B-ol3-aq7_e.csv\ttemporal period 2 \t YES\n",
      "2-12_B-ol30-aq10_e.csv\ttemporal period 2 \t YES\n",
      "2-12_B-ol5-aq15_e.csv\ttemporal period 2 \t YES\n",
      "2-12_B-ol5-aq5_e.csv\ttemporal period 2 \t YES\n",
      "2-12_B-ol7-aq3_e.csv\ttemporal period 2 \t YES\n",
      "2-12_A-ol0.5-aq0.5_e.csv\tdt detectors \t YES\n",
      "2-12_B-ol10-aq10_e.csv\tdt detectors \t YES\n",
      "2-12_B-ol15-aq5_e.csv\tdt detectors \t YES\n",
      "2-12_B-ol2-aq2_e.csv\tdt detectors \t NO\n",
      "2-12_B-ol3-aq7_e.csv\tdt detectors \t YES\n",
      "2-12_B-ol30-aq10_e.csv\tdt detectors \t YES\n",
      "2-12_B-ol5-aq15_e.csv\tdt detectors \t YES\n",
      "2-12_B-ol5-aq5_e.csv\tdt detectors \t NO\n",
      "2-12_B-ol7-aq3_e.csv\tdt detectors \t YES\n",
      "2-12_A-ol0.5-aq0.5_e.csv\tvelocity \t YES\n",
      "2-12_B-ol10-aq10_e.csv\tvelocity \t YES\n",
      "2-12_B-ol15-aq5_e.csv\tvelocity \t YES\n",
      "2-12_B-ol15-aq5_e.csv\tvelocity \t YES\n",
      "2-12_B-ol2-aq2_e.csv\tvelocity \t NO\n",
      "2-12_B-ol3-aq7_e.csv\tvelocity \t YES\n",
      "2-12_B-ol30-aq10_e.csv\tvelocity \t YES\n",
      "2-12_B-ol5-aq15_e.csv\tvelocity \t YES\n",
      "2-12_B-ol5-aq5_e.csv\tvelocity \t NO\n",
      "2-12_B-ol7-aq3_e.csv\tvelocity \t YES\n",
      "2-12_A-ol0.5-aq0.5_e.csv\tspatial size 1 \t YES\n",
      "2-12_B-ol10-aq10_e.csv\tspatial size 1 \t YES\n",
      "2-12_B-ol15-aq5_e.csv\tspatial size 1 \t YES\n",
      "2-12_B-ol2-aq2_e.csv\tspatial size 1 \t YES\n",
      "2-12_B-ol3-aq7_e.csv\tspatial size 1 \t YES\n",
      "2-12_B-ol30-aq10_e.csv\tspatial size 1 \t YES\n",
      "2-12_B-ol5-aq15_e.csv\tspatial size 1 \t YES\n",
      "2-12_B-ol5-aq5_e.csv\tspatial size 1 \t YES\n",
      "2-12_B-ol7-aq3_e.csv\tspatial size 1 \t YES\n",
      "2-12_A-ol0.5-aq0.5_e.csv\tspatial size 2 \t YES\n",
      "2-12_B-ol10-aq10_e.csv\tspatial size 2 \t YES\n",
      "2-12_B-ol15-aq5_e.csv\tspatial size 2 \t YES\n",
      "2-12_B-ol2-aq2_e.csv\tspatial size 2 \t YES\n",
      "2-12_B-ol3-aq7_e.csv\tspatial size 2 \t YES\n",
      "2-12_B-ol30-aq10_e.csv\tspatial size 2 \t YES\n",
      "2-12_B-ol5-aq15_e.csv\tspatial size 2 \t YES\n",
      "2-12_B-ol5-aq5_e.csv\tspatial size 2 \t YES\n",
      "2-12_B-ol7-aq3_e.csv\tspatial size 2 \t YES\n",
      "2-12_A-ol0.5-aq0.5_e.csv\tspatial distance 1 \t YES\n",
      "2-12_B-ol10-aq10_e.csv\tspatial distance 1 \t YES\n",
      "2-12_B-ol15-aq5_e.csv\tspatial distance 1 \t YES\n",
      "2-12_B-ol2-aq2_e.csv\tspatial distance 1 \t NO\n",
      "2-12_B-ol3-aq7_e.csv\tspatial distance 1 \t YES\n",
      "2-12_B-ol30-aq10_e.csv\tspatial distance 1 \t YES\n",
      "2-12_B-ol5-aq15_e.csv\tspatial distance 1 \t YES\n",
      "2-12_B-ol5-aq5_e.csv\tspatial distance 1 \t NO\n",
      "2-12_B-ol7-aq3_e.csv\tspatial distance 1 \t YES\n",
      "2-12_A-ol0.5-aq0.5_e.csv\tspatial distance 2 \t YES\n",
      "2-12_B-ol10-aq10_e.csv\tspatial distance 2 \t YES\n",
      "2-12_B-ol15-aq5_e.csv\tspatial distance 2 \t YES\n",
      "2-12_B-ol2-aq2_e.csv\tspatial distance 2 \t NO\n",
      "2-12_B-ol3-aq7_e.csv\tspatial distance 2 \t YES\n",
      "2-12_B-ol30-aq10_e.csv\tspatial distance 2 \t YES\n",
      "2-12_B-ol5-aq15_e.csv\tspatial distance 2 \t YES\n",
      "2-12_B-ol5-aq5_e.csv\tspatial distance 2 \t NO\n",
      "2-12_B-ol7-aq3_e.csv\tspatial distance 2 \t YES\n",
      "2-12_A-ol0.5-aq0.5_e.csv\tfiber spatial size 1 \t YES\n",
      "2-12_B-ol10-aq10_e.csv\tfiber spatial size 1 \t YES\n",
      "2-12_B-ol15-aq5_e.csv\tfiber spatial size 1 \t YES\n",
      "2-12_B-ol2-aq2_e.csv\tfiber spatial size 1 \t YES\n",
      "2-12_B-ol3-aq7_e.csv\tfiber spatial size 1 \t YES\n",
      "2-12_B-ol30-aq10_e.csv\tfiber spatial size 1 \t YES\n",
      "2-12_B-ol5-aq15_e.csv\tfiber spatial size 1 \t YES\n",
      "2-12_B-ol5-aq5_e.csv\tfiber spatial size 1 \t YES\n",
      "2-12_B-ol7-aq3_e.csv\tfiber spatial size 1 \t YES\n",
      "2-12_A-ol0.5-aq0.5_e.csv\tfiber spatial size 2 \t YES\n",
      "2-12_B-ol10-aq10_e.csv\tfiber spatial size 2 \t YES\n",
      "2-12_B-ol15-aq5_e.csv\tfiber spatial size 2 \t YES\n",
      "2-12_B-ol2-aq2_e.csv\tfiber spatial size 2 \t YES\n",
      "2-12_B-ol3-aq7_e.csv\tfiber spatial size 2 \t YES\n",
      "2-12_B-ol30-aq10_e.csv\tfiber spatial size 2 \t YES\n",
      "2-12_B-ol5-aq15_e.csv\tfiber spatial size 2 \t YES\n",
      "2-12_B-ol5-aq5_e.csv\tfiber spatial size 2 \t YES\n",
      "2-12_B-ol7-aq3_e.csv\tfiber spatial size 2 \t YES\n",
      "2-12_A-ol0.5-aq0.5_i.csv\tdistance w \t YES\n",
      "2-12_A-ol2-aq2_i.csv\tdistance w \t YES\n",
      "2-12_A-ol5-aq5_i.csv\tdistance w \t YES\n",
      "2-12_B-ol10-aq10_i.csv\tdistance w \t YES\n",
      "2-12_B-ol15-aq5_i.csv\tdistance w \t YES\n",
      "2-12_B-ol2-aq2_i.csv\tdistance w \t YES\n",
      "2-12_B-ol3-aq7_i.csv\tdistance w \t YES\n",
      "2-12_B-ol5-aq15_i.csv\tdistance w \t YES\n",
      "2-12_B-ol5-aq5_i.csv\tdistance w \t YES\n",
      "2-12_B-ol7-aq3_i.csv\tdistance w \t YES\n",
      "2-12_A-ol0.5-aq0.5_i.csv\tdistance n \t YES\n",
      "2-12_A-ol2-aq2_i.csv\tdistance n \t YES\n",
      "2-12_A-ol5-aq5_i.csv\tdistance n \t YES\n",
      "2-12_B-ol10-aq10_i.csv\tdistance n \t YES\n",
      "2-12_B-ol15-aq5_i.csv\tdistance n \t YES\n",
      "2-12_B-ol2-aq2_i.csv\tdistance n \t YES\n",
      "2-12_B-ol3-aq7_i.csv\tdistance n \t YES\n",
      "2-12_B-ol5-aq15_i.csv\tdistance n \t YES\n",
      "2-12_B-ol5-aq5_i.csv\tdistance n \t YES\n",
      "2-12_B-ol7-aq3_i.csv\tdistance n \t YES\n",
      "2-12_A-ol0.5-aq0.5_i.csv\twavelength \t YES\n",
      "2-12_A-ol2-aq2_i.csv\twavelength \t YES\n",
      "2-12_A-ol5-aq5_i.csv\twavelength \t YES\n",
      "2-12_B-ol10-aq10_i.csv\twavelength \t YES\n",
      "2-12_B-ol15-aq5_i.csv\twavelength \t YES\n",
      "2-12_B-ol2-aq2_i.csv\twavelength \t YES\n",
      "2-12_B-ol3-aq7_i.csv\twavelength \t YES\n",
      "2-12_B-ol5-aq15_i.csv\twavelength \t YES\n",
      "2-12_B-ol5-aq5_i.csv\twavelength \t YES\n",
      "2-12_B-ol7-aq3_i.csv\twavelength \t YES\n",
      "2-12_A-ol0.5-aq0.5_i.csv\tsize w \t YES\n",
      "2-12_A-ol2-aq2_i.csv\tsize w \t YES\n",
      "2-12_A-ol5-aq5_i.csv\tsize w \t YES\n",
      "2-12_B-ol10-aq10_i.csv\tsize w \t YES\n",
      "2-12_B-ol15-aq5_i.csv\tsize w \t YES\n",
      "2-12_B-ol2-aq2_i.csv\tsize w \t YES\n",
      "2-12_B-ol3-aq7_i.csv\tsize w \t YES\n",
      "2-12_B-ol5-aq15_i.csv\tsize w \t YES\n",
      "2-12_B-ol5-aq5_i.csv\tsize w \t YES\n",
      "2-12_B-ol7-aq3_i.csv\tsize w \t YES\n",
      "2-12_A-ol0.5-aq0.5_i.csv\tsize n \t YES\n",
      "2-12_A-ol2-aq2_i.csv\tsize n \t YES\n",
      "2-12_A-ol5-aq5_i.csv\tsize n \t YES\n",
      "2-12_B-ol10-aq10_i.csv\tsize n \t YES\n",
      "2-12_B-ol15-aq5_i.csv\tsize n \t YES\n",
      "2-12_B-ol2-aq2_i.csv\tsize n \t YES\n",
      "2-12_B-ol3-aq7_i.csv\tsize n \t YES\n",
      "2-12_B-ol5-aq15_i.csv\tsize n \t YES\n",
      "2-12_B-ol5-aq5_i.csv\tsize n \t YES\n",
      "2-12_B-ol7-aq3_i.csv\tsize n \t YES\n",
      "2-12_A-ol0.5-aq0.5_i.csv\tmeniscus size b \t YES\n",
      "2-12_A-ol2-aq2_i.csv\tmeniscus size b \t YES\n",
      "2-12_A-ol5-aq5_i.csv\tmeniscus size b \t YES\n",
      "2-12_B-ol10-aq10_i.csv\tmeniscus size b \t YES\n",
      "2-12_B-ol15-aq5_i.csv\tmeniscus size b \t YES\n",
      "2-12_B-ol2-aq2_i.csv\tmeniscus size b \t YES\n",
      "2-12_B-ol3-aq7_i.csv\tmeniscus size b \t YES\n",
      "2-12_B-ol5-aq15_i.csv\tmeniscus size b \t YES\n",
      "2-12_B-ol5-aq5_i.csv\tmeniscus size b \t YES\n",
      "2-12_B-ol7-aq3_i.csv\tmeniscus size b \t YES\n",
      "2-12_A-ol0.5-aq0.5_i.csv\tmeniscus size f \t YES\n",
      "2-12_A-ol2-aq2_i.csv\tmeniscus size f \t YES\n",
      "2-12_A-ol5-aq5_i.csv\tmeniscus size f \t YES\n",
      "2-12_B-ol10-aq10_i.csv\tmeniscus size f \t YES\n",
      "2-12_B-ol15-aq5_i.csv\tmeniscus size f \t YES\n",
      "2-12_B-ol2-aq2_i.csv\tmeniscus size f \t YES\n",
      "2-12_B-ol3-aq7_i.csv\tmeniscus size f \t YES\n",
      "2-12_B-ol5-aq15_i.csv\tmeniscus size f \t YES\n",
      "2-12_B-ol5-aq5_i.csv\tmeniscus size f \t YES\n",
      "2-12_B-ol7-aq3_i.csv\tmeniscus size f \t YES\n",
      "2-12_A-ol0.5-aq0.5_i.csv\tvelocity w \t YES\n",
      "2-12_A-ol2-aq2_i.csv\tvelocity w \t YES\n",
      "2-12_A-ol5-aq5_i.csv\tvelocity w \t YES\n",
      "2-12_B-ol10-aq10_i.csv\tvelocity w \t YES\n",
      "2-12_B-ol15-aq5_i.csv\tvelocity w \t YES\n"
     ]
    },
    {
     "name": "stdout",
     "output_type": "stream",
     "text": [
      "2-12_B-ol2-aq2_i.csv\tvelocity w \t YES\n",
      "2-12_B-ol3-aq7_i.csv\tvelocity w \t YES\n",
      "2-12_B-ol5-aq15_i.csv\tvelocity w \t YES\n",
      "2-12_B-ol5-aq5_i.csv\tvelocity w \t YES\n",
      "2-12_B-ol7-aq3_i.csv\tvelocity w \t YES\n",
      "2-12_A-ol0.5-aq0.5_i.csv\tvelocity n \t YES\n",
      "2-12_A-ol2-aq2_i.csv\tvelocity n \t YES\n",
      "2-12_A-ol5-aq5_i.csv\tvelocity n \t YES\n",
      "2-12_B-ol10-aq10_i.csv\tvelocity n \t YES\n",
      "2-12_B-ol15-aq5_i.csv\tvelocity n \t YES\n",
      "2-12_B-ol2-aq2_i.csv\tvelocity n \t YES\n",
      "2-12_B-ol3-aq7_i.csv\tvelocity n \t YES\n",
      "2-12_B-ol5-aq15_i.csv\tvelocity n \t YES\n",
      "2-12_B-ol5-aq5_i.csv\tvelocity n \t YES\n",
      "2-12_B-ol7-aq3_i.csv\tvelocity n \t YES\n"
     ]
    }
   ],
   "source": [
    "# Electronic dataframes -----------------------------------\n",
    "# temporal distance\n",
    "E_temp_dist_1 = np.array(df_reader(label_E, 'Temporal distance 1 [s]'))\n",
    "E_temp_dist_2 = np.array(df_reader(label_E, 'Temporal distance 2 [s]'))\n",
    "# temporal size\n",
    "E_temp_size_1 = np.array(df_reader(label_E, 'temporal size 1 [s]'))\n",
    "E_temp_size_2 = np.array(df_reader(label_E, 'temporal size 2 [s]'))\n",
    "# temporal period\n",
    "E_temp_peri_1 = np.array(df_reader(label_E, 'temporal period 1 [s]'))\n",
    "E_temp_peri_2 = np.array(df_reader(label_E, 'temporal period 2 [s]'))\n",
    "# dt detectors\n",
    "E_dt_detectrs = np.array(df_reader(label_E, 'dt detectors [s]'))\n",
    "# velocity\n",
    "E_velocities  = np.array(df_reader(label_E, 'velocity [s]'))\n",
    "# spatial size\n",
    "E_spat_size_1 = np.array(df_reader(label_E, 'spatial size 1 [s]'))\n",
    "E_spat_size_2 = np.array(df_reader(label_E, 'spatial size 2 [s]'))\n",
    "# spatial distance\n",
    "E_spat_dist_1 = np.array(df_reader(label_E, 'spatial distance 1 [s]'))\n",
    "E_spat_dist_2 = np.array(df_reader(label_E, 'spatial distance 2 [s]'))\n",
    "# fiber spatial size\n",
    "E_fibe_size_1 = np.array(df_reader(label_E, 'fiber spatial size 1 [s]'))\n",
    "E_fibe_size_2 = np.array(df_reader(label_E, 'fiber spatial size 2 [s]'))\n",
    "\n",
    "# Image dataframes -----------------------------------------\n",
    "# distance\n",
    "I_distance_w = np.array(df_reader(label_I, 'distance w [mm]'))\n",
    "I_distance_n = np.array(df_reader(label_I, 'distance n [mm]'))\n",
    "# wavelength\n",
    "I_wavelength = np.array(df_reader(label_I, 'wavelength [mm]'))\n",
    "# size\n",
    "I_size_w     = np.array(df_reader(label_I, 'size w [mm]'))\n",
    "I_size_n     = np.array(df_reader(label_I, 'size n [mm]'))\n",
    "# meniscus size\n",
    "I_meniscus_b = np.array(df_reader(label_I, 'meniscus size b [mm]'))\n",
    "I_meniscus_f = np.array(df_reader(label_I, 'meniscus size f [mm]'))\n",
    "# velocity\n",
    "I_velocity_w = np.array(df_reader(label_I, 'velocity w [mm/s]'))\n",
    "I_velocity_n = np.array(df_reader(label_I, 'velocity n [mm/s]'))\n",
    "\n",
    "# fluxes --------------------------------------------------\n",
    "Flux_aq  = np.array(label_E[:,4]).astype(float)\n",
    "Flux_ol  = np.array(label_E[:,5]).astype(float)\n",
    "Flux_tot = Flux_aq + Flux_ol\n"
   ]
  },
  {
   "cell_type": "code",
   "execution_count": null,
   "metadata": {},
   "outputs": [],
   "source": []
  },
  {
   "cell_type": "markdown",
   "metadata": {},
   "source": [
    "### wavelength (period) vs total flux"
   ]
  },
  {
   "cell_type": "code",
   "execution_count": 32,
   "metadata": {
    "scrolled": true
   },
   "outputs": [
    {
     "name": "stdout",
     "output_type": "stream",
     "text": [
      "9 9\n",
      "[[9.869812440049568 0.12370640920494685 1.8899078971351704\n",
      "  0.12376194860612595]\n",
      " [1.5997515704103482 0.0004212745831292728 0.024856050427773942\n",
      "  0.00042013401956047337]\n",
      " [1.625660613618985 0.001608893687473668 0.026793235937315085\n",
      "  0.0016089631819898244]\n",
      " [nan nan nan nan]\n",
      " [4.565799610549139 0.010974408161766999 0.13581593082451\n",
      "  0.010973826128384]\n",
      " [0.8084869912705562 0.001183501750840966 0.025818148848938627\n",
      "  0.001185998364791765]\n",
      " [2.4469651165944266 0.004589128391978409 0.07102361455271257\n",
      "  0.004589287413612584]\n",
      " [3.5245915378627544 0.018070387075445355 0.1933624929982054\n",
      "  0.021737941056584092]\n",
      " [3.2992614733802537 0.015136764520424548 0.09688666770992403\n",
      "  0.015336005102299462]]\n"
     ]
    },
    {
     "data": {
      "image/png": "[encoded data removed]",
      "text/plain": [
       "<Figure size 720x576 with 1 Axes>"
      ]
     },
     "metadata": {
      "needs_background": "light"
     },
     "output_type": "display_data"
    },
    {
     "data": {
      "image/png": "[encoded data removed]",
      "text/plain": [
       "<Figure size 720x576 with 1 Axes>"
      ]
     },
     "metadata": {
      "needs_background": "light"
     },
     "output_type": "display_data"
    }
   ],
   "source": [
    "\n",
    "def plotter (X1_data, Y1_data, X2_data,  X_label, Y_label):\n",
    "    mask_Y = Y_data != np.nan\n",
    "    mask_X = X_data != np.nan\n",
    "    mask = mask_X * mask_Y\n",
    "    fig,ax = plt.subplots(figsize=(10,8))\n",
    "    ax.scatter(X_data[mask], Y_data[mask], color='blue')\n",
    "    ax.set_xlabel(X_label)\n",
    "    ax.set_ylabel(Y_label)\n",
    "    \n",
    "print(len(E_temp_peri_1), len(Flux_tot))\n",
    "print(E_temp_peri_1)\n",
    "\n",
    "plotter(Flux_tot, E_temp_peri_2[:,0], 'total flux', 'period')\n",
    "plotter(Flux_tot, E_temp_peri_1[:,0], 'total flux', 'period')"
   ]
  },
  {
   "cell_type": "markdown",
   "metadata": {
    "heading_collapsed": true
   },
   "source": [
    "### ratio size/distance vs ratio aq flux/ oil flux"
   ]
  },
  {
   "cell_type": "markdown",
   "metadata": {
    "heading_collapsed": true
   },
   "source": [
    "### fiber spatial size"
   ]
  },
  {
   "cell_type": "markdown",
   "metadata": {
    "heading_collapsed": true
   },
   "source": [
    "### velocity "
   ]
  },
  {
   "cell_type": "markdown",
   "metadata": {
    "heading_collapsed": true
   },
   "source": [
    "### meniscus size"
   ]
  },
  {
   "cell_type": "markdown",
   "metadata": {
    "hidden": true
   },
   "source": []
  },
  {
   "cell_type": "markdown",
   "metadata": {
    "hidden": true
   },
   "source": []
  }
 ],
 "metadata": {
  "kernelspec": {
   "display_name": "Python 3",
   "language": "python",
   "name": "python3"
  },
  "language_info": {
   "codemirror_mode": {
    "name": "ipython",
    "version": 3
   },
   "file_extension": ".py",
   "mimetype": "text/x-python",
   "name": "python",
   "nbconvert_exporter": "python",
   "pygments_lexer": "ipython3",
   "version": "3.8.3"
  }
 },
 "nbformat": 4,
 "nbformat_minor": 4
}
