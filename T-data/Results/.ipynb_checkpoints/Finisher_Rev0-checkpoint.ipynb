{
 "cells": [
  {
   "cell_type": "markdown",
   "metadata": {
    "heading_collapsed": true
   },
   "source": [
    "### Note"
   ]
  },
  {
   "cell_type": "raw",
   "metadata": {
    "hidden": true
   },
   "source": [
    "Example of a dataframes (electronic analysis) with its 14 properties\n",
    "\n",
    "                    property        mean  mean std     sigma  sigma std\n",
    "0    Temporal distance 1 [s]    7.640199  0.107665  1.974752   0.107666\n",
    "1    Temporal distance 2 [s]    6.830958  0.729017  2.355629   0.729057\n",
    "2        temporal size 1 [s]    2.185974  0.031900  0.583609   0.031901\n",
    "3        temporal size 2 [s]    2.794406  0.049398  0.479029   0.049396\n",
    "4      temporal period 1 [s]    9.869812  0.123706  1.889908   0.123762\n",
    "5      temporal period 2 [s]   11.456947  0.143627  0.866993   0.143619\n",
    "6           dt detectors [s]  301.577201  1.326848  9.863521   1.326852\n",
    "7               velocity [s]    0.165055  0.000779  0.003909   0.000779\n",
    "8         spatial size 1 [s]    0.356735  0.005391  0.097737   0.005391\n",
    "9         spatial size 2 [s]    0.468290  0.006786  0.052036   0.006786\n",
    "10    spatial distance 1 [s]    1.238815  0.019558  0.317515   0.019559\n",
    "11    spatial distance 2 [s]    1.234857  0.168602  0.636487   0.169343\n",
    "12  fiber spatial size 1 [s]    0.130811  0.002492  0.048166   0.002492\n",
    "13  fiber spatial size 2 [s]    0.241989  0.017439  0.108778   0.017479"
   ]
  },
  {
   "cell_type": "raw",
   "metadata": {
    "hidden": true
   },
   "source": [
    "Example of a dataframes (image analysis) with its 9 properties\n",
    "\n",
    "               property      mean  mean std     sigma  sigma std\n",
    "0       distance w [mm]  1.059666  0.006866  0.218100   0.006866\n",
    "1       distance n [mm]  1.254990  0.007145  0.225758   0.007145\n",
    "2       wavelength [mm]  2.253316  0.008406  0.252762   0.008406\n",
    "3           size w [mm]  1.207421  0.009926  0.184841   0.009926\n",
    "4           size n [mm]  1.009947  0.008700  0.187711   0.008699\n",
    "5  meniscus size b [mm]  0.102872  0.000389  0.033605   0.000389\n",
    "6  meniscus size f [mm]  0.073849  0.000672  0.028310   0.000672\n",
    "7     velocity w [mm/s]  0.316939  0.004018  0.173666   0.004019\n",
    "8     velocity n [mm/s]  0.316098  0.003649  0.181611   0.003651"
   ]
  },
  {
   "cell_type": "raw",
   "metadata": {
    "hidden": true
   },
   "source": [
    "Example of a label [filename, day, month, chip, aq_flux, ol_flux, analysis]\n",
    "\n",
    "['2-12_A-ol0.5-aq0.5_i.csv' '2.0' '12.0' 'A' '0.5' '0.5' 'I']"
   ]
  },
  {
   "cell_type": "raw",
   "metadata": {
    "hidden": true
   },
   "source": [
    "Common commands\n",
    "\n",
    "1) df = pd.read_csv(label[i][0]) to get the dataframe of the i° file\n",
    "2)"
   ]
  },
  {
   "cell_type": "markdown",
   "metadata": {
    "heading_collapsed": true
   },
   "source": [
    "### Library"
   ]
  },
  {
   "cell_type": "code",
   "execution_count": 80,
   "metadata": {
    "hidden": true
   },
   "outputs": [],
   "source": [
    "import numpy as np\n",
    "import pandas as pd\n",
    "import matplotlib.pyplot as plt"
   ]
  },
  {
   "cell_type": "code",
   "execution_count": 81,
   "metadata": {
    "hidden": true
   },
   "outputs": [],
   "source": [
    "# reads the FileName and returns a label which identifies the dataset\n",
    "# label = [filename, day, month, chip, aq_flux, ol_flux, analysis]\n",
    "def fn_reader(filename):\n",
    "    \n",
    "    # return a list of floated values from the text string\n",
    "    import re\n",
    "    def get_numbers_from_filename(filename):\n",
    "        z = re.findall(r'\\d+(?:\\.\\d+)?', filename)\n",
    "        return [float(z[s]) for s in range(len(z))]\n",
    "    \n",
    "    \n",
    "    chip = 'None'\n",
    "    if (filename.find('A') != -1): \n",
    "        chip = 'A'\n",
    "    if (filename.find('B') != -1): \n",
    "        chip = 'B'\n",
    "    analysis = 'None'\n",
    "    if (filename.find('i') != -1): \n",
    "        analysis  = 'I'\n",
    "    if (filename.find('e') != -1): \n",
    "        analysis  = 'E'\n",
    "    date_d = get_numbers_from_filename(filename)[0]\n",
    "    date_m = get_numbers_from_filename(filename)[1]\n",
    "    ol     = get_numbers_from_filename(filename)[2]\n",
    "    aq     = get_numbers_from_filename(filename)[3]\n",
    "    label  = [filename, date_d, date_m, chip, ol, aq, analysis]\n",
    "        \n",
    "    return label"
   ]
  },
  {
   "cell_type": "code",
   "execution_count": 82,
   "metadata": {
    "hidden": true
   },
   "outputs": [],
   "source": [
    "# returns the vector of the mean values of the property \"target\" indexed by the label\n",
    "def df_reader(label, target):\n",
    "    \n",
    "    values = []\n",
    "\n",
    "    for i in np.arange(len(label)):       # runs through the files indexed by the label\n",
    "        df = pd.read_csv(label[i][0])     # dataframe of the i° file\n",
    "        indexNamesArr = df.index.values   # names of the rows of df\n",
    "        \n",
    "        for x in indexNamesArr:                  # runs through the rows of each dataframe\n",
    "            if df.loc[x]['property'] == target:  # finds the row of the property \"target\"\n",
    "                values.append(df.loc[x]['mean']) # gets the mean value of the property\n",
    "                \n",
    "    return values\n",
    "\n"
   ]
  },
  {
   "cell_type": "markdown",
   "metadata": {
    "heading_collapsed": true
   },
   "source": [
    "### Importing data"
   ]
  },
  {
   "cell_type": "code",
   "execution_count": 83,
   "metadata": {
    "hidden": true
   },
   "outputs": [
    {
     "name": "stdout",
     "output_type": "stream",
     "text": [
      "Label_E:\n",
      "\n",
      "[['2-12_A-ol0.5-aq0.5_e.csv' '2.0' '12.0' 'A' '0.5' '0.5' 'E']\n",
      " ['2-12_B-ol10-aq10_e.csv' '2.0' '12.0' 'B' '10.0' '10.0' 'E']\n",
      " ['2-12_B-ol15-aq5_e.csv' '2.0' '12.0' 'B' '15.0' '5.0' 'E']\n",
      " ['2-12_B-ol2-aq2_e.csv' '2.0' '12.0' 'B' '2.0' '2.0' 'E']\n",
      " ['2-12_B-ol3-aq7_e.csv' '2.0' '12.0' 'B' '3.0' '7.0' 'E']\n",
      " ['2-12_B-ol30-aq10_e.csv' '2.0' '12.0' 'B' '30.0' '10.0' 'E']\n",
      " ['2-12_B-ol5-aq15_e.csv' '2.0' '12.0' 'B' '5.0' '15.0' 'E']\n",
      " ['2-12_B-ol5-aq5_e.csv' '2.0' '12.0' 'B' '5.0' '5.0' 'E']\n",
      " ['2-12_B-ol7-aq3_e.csv' '2.0' '12.0' 'B' '7.0' '3.0' 'E']]\n",
      "\n",
      "\n",
      " Label_I:\n",
      "\n",
      "[['2-12_A-ol0.5-aq0.5_i.csv' '2.0' '12.0' 'A' '0.5' '0.5' 'I']\n",
      " ['2-12_A-ol2-aq2_i.csv' '2.0' '12.0' 'A' '2.0' '2.0' 'I']\n",
      " ['2-12_A-ol5-aq5_i.csv' '2.0' '12.0' 'A' '5.0' '5.0' 'I']\n",
      " ['2-12_B-ol10-aq10_i.csv' '2.0' '12.0' 'B' '10.0' '10.0' 'I']\n",
      " ['2-12_B-ol15-aq5_i.csv' '2.0' '12.0' 'B' '15.0' '5.0' 'I']\n",
      " ['2-12_B-ol2-aq2_i.csv' '2.0' '12.0' 'B' '2.0' '2.0' 'I']\n",
      " ['2-12_B-ol3-aq7_i.csv' '2.0' '12.0' 'B' '3.0' '7.0' 'I']\n",
      " ['2-12_B-ol5-aq15_i.csv' '2.0' '12.0' 'B' '5.0' '15.0' 'I']\n",
      " ['2-12_B-ol5-aq5_i.csv' '2.0' '12.0' 'B' '5.0' '5.0' 'I']\n",
      " ['2-12_B-ol7-aq3_i.csv' '2.0' '12.0' 'B' '7.0' '3.0' 'I']]\n"
     ]
    }
   ],
   "source": [
    "# label = [filename, day, month, chip, aq_flux, ol_flux, analysis]\n",
    "# label_E for electronic analysis\n",
    "# label_I for image analysis\n",
    "\n",
    "import glob, os\n",
    "os.chdir(\"./\")\n",
    "label = [];\n",
    "label_E = []\n",
    "label_I = []\n",
    "i = 0\n",
    "for filename in glob.glob(\"*.csv\"):\n",
    "    label.append(fn_reader(filename))\n",
    "    if (label[i][6] == 'E'):\n",
    "        label_E.append(fn_reader(filename))\n",
    "    if label[i][6] == 'I':\n",
    "        label_I.append(fn_reader(filename))\n",
    "    i = i+1\n",
    "\n",
    "label_E = np.array(label_E)\n",
    "label_I = np.array(label_I)\n",
    "\n",
    "print ('Label_E:\\n')\n",
    "print(label_E)\n",
    "print ('\\n\\n Label_I:\\n')\n",
    "print(label_I)"
   ]
  },
  {
   "cell_type": "markdown",
   "metadata": {
    "heading_collapsed": true
   },
   "source": [
    "### ratio size/distance vs ratio aq flux/ oil flux"
   ]
  },
  {
   "cell_type": "code",
   "execution_count": 94,
   "metadata": {
    "hidden": true
   },
   "outputs": [
    {
     "name": "stdout",
     "output_type": "stream",
     "text": [
      "               property      mean  mean std     sigma  sigma std\n",
      "0       distance w [mm]  1.059666  0.006866  0.218100   0.006866\n",
      "1       distance n [mm]  1.254990  0.007145  0.225758   0.007145\n",
      "2       wavelength [mm]  2.253316  0.008406  0.252762   0.008406\n",
      "3           size w [mm]  1.207421  0.009926  0.184841   0.009926\n",
      "4           size n [mm]  1.009947  0.008700  0.187711   0.008699\n",
      "5  meniscus size b [mm]  0.102872  0.000389  0.033605   0.000389\n",
      "6  meniscus size f [mm]  0.073849  0.000672  0.028310   0.000672\n",
      "7     velocity w [mm/s]  0.316939  0.004018  0.173666   0.004019\n",
      "8     velocity n [mm/s]  0.316098  0.003649  0.181611   0.003651\n"
     ]
    },
    {
     "ename": "NameError",
     "evalue": "name 'sd_ratio' is not defined",
     "output_type": "error",
     "traceback": [
      "\u001b[1;31m---------------------------------------------------------------------------\u001b[0m",
      "\u001b[1;31mNameError\u001b[0m                                 Traceback (most recent call last)",
      "\u001b[1;32m<ipython-input-94-435431c9ee3d>\u001b[0m in \u001b[0;36m<module>\u001b[1;34m\u001b[0m\n\u001b[0;32m     15\u001b[0m \u001b[1;33m\u001b[0m\u001b[0m\n\u001b[0;32m     16\u001b[0m \u001b[0mfig\u001b[0m\u001b[1;33m,\u001b[0m \u001b[0maxs\u001b[0m \u001b[1;33m=\u001b[0m \u001b[0mplt\u001b[0m\u001b[1;33m.\u001b[0m\u001b[0msubplots\u001b[0m\u001b[1;33m(\u001b[0m\u001b[0mnrows\u001b[0m\u001b[1;33m=\u001b[0m\u001b[1;36m2\u001b[0m\u001b[1;33m,\u001b[0m \u001b[0mncols\u001b[0m\u001b[1;33m=\u001b[0m\u001b[1;36m1\u001b[0m\u001b[1;33m,\u001b[0m \u001b[0mfigsize\u001b[0m\u001b[1;33m=\u001b[0m\u001b[1;33m(\u001b[0m\u001b[1;36m15\u001b[0m\u001b[1;33m,\u001b[0m\u001b[1;36m6\u001b[0m\u001b[1;33m)\u001b[0m\u001b[1;33m)\u001b[0m\u001b[1;33m\u001b[0m\u001b[1;33m\u001b[0m\u001b[0m\n\u001b[1;32m---> 17\u001b[1;33m \u001b[0maxs\u001b[0m\u001b[1;33m[\u001b[0m\u001b[1;36m0\u001b[0m\u001b[1;33m]\u001b[0m\u001b[1;33m.\u001b[0m\u001b[0mplot\u001b[0m\u001b[1;33m(\u001b[0m\u001b[0msd_ratio\u001b[0m\u001b[1;33m,\u001b[0m \u001b[0mFlux_ratio\u001b[0m\u001b[1;33m,\u001b[0m \u001b[0mcolor\u001b[0m\u001b[1;33m=\u001b[0m\u001b[1;34m'blue'\u001b[0m\u001b[1;33m,\u001b[0m \u001b[0mlabel\u001b[0m\u001b[1;33m=\u001b[0m \u001b[1;34m\"signal 1\"\u001b[0m\u001b[1;33m)\u001b[0m\u001b[1;33m\u001b[0m\u001b[1;33m\u001b[0m\u001b[0m\n\u001b[0m\u001b[0;32m     18\u001b[0m \u001b[0maxs\u001b[0m\u001b[1;33m[\u001b[0m\u001b[1;36m0\u001b[0m\u001b[1;33m]\u001b[0m\u001b[1;33m.\u001b[0m\u001b[0mset_xlabel\u001b[0m\u001b[1;33m(\u001b[0m\u001b[1;34m'size/distance'\u001b[0m\u001b[1;33m)\u001b[0m\u001b[1;33m\u001b[0m\u001b[1;33m\u001b[0m\u001b[0m\n\u001b[0;32m     19\u001b[0m \u001b[0maxs\u001b[0m\u001b[1;33m[\u001b[0m\u001b[1;36m0\u001b[0m\u001b[1;33m]\u001b[0m\u001b[1;33m.\u001b[0m\u001b[0mset_ylabel\u001b[0m\u001b[1;33m(\u001b[0m\u001b[1;34m'flux ratio'\u001b[0m\u001b[1;33m)\u001b[0m\u001b[1;33m\u001b[0m\u001b[1;33m\u001b[0m\u001b[0m\n",
      "\u001b[1;31mNameError\u001b[0m: name 'sd_ratio' is not defined"
     ]
    },
    {
     "data": {
      "image/png": "[encoded data removed]",
      "text/plain": [
       "<Figure size 1080x432 with 2 Axes>"
      ]
     },
     "metadata": {
      "needs_background": "light"
     },
     "output_type": "display_data"
    }
   ],
   "source": [
    "# fluxes\n",
    "Flux_aq    = np.array(label_E[:,4]).astype(float)\n",
    "Flux_ol    = np.array(label_E[:,5]).astype(float)\n",
    "Flux_ratio = Flux_aq/Flux_ol\n",
    "# sizes\n",
    "size = df_reader(label_E, 'spatial size 1 [s]')\n",
    "size = np.array(size)\n",
    "# distances\n",
    "dist = df_reader(label_E, 'spatial distance 1 [s]')\n",
    "dist = np.array(dist)\n",
    "\n",
    "\n",
    "#sd_ratio = size/dist\n",
    "\n",
    "print(pd.read_csv(label_I[0][0]))\n",
    "\n",
    "fig, axs = plt.subplots(nrows=2, ncols=1, figsize=(15,6))\n",
    "axs[0].plot(sd_ratio, Flux_ratio, color='blue', label= \"signal 1\")\n",
    "axs[0].set_xlabel('size/distance')\n",
    "axs[0].set_ylabel('flux ratio')\n",
    "axs[1].plot(Flux_ratio, size, color='green', label= \"signal 2\")\n",
    "axs[1].set_xlabel('flux ratio')\n",
    "axs[1].set_ylabel('size/distance')"
   ]
  },
  {
   "cell_type": "code",
   "execution_count": null,
   "metadata": {
    "hidden": true
   },
   "outputs": [],
   "source": []
  },
  {
   "cell_type": "markdown",
   "metadata": {
    "heading_collapsed": true
   },
   "source": [
    "### wavelength (period) vs total flux"
   ]
  },
  {
   "cell_type": "markdown",
   "metadata": {
    "heading_collapsed": true
   },
   "source": [
    "### fiber spatial size"
   ]
  },
  {
   "cell_type": "markdown",
   "metadata": {
    "heading_collapsed": true
   },
   "source": [
    "### velocity "
   ]
  },
  {
   "cell_type": "markdown",
   "metadata": {
    "heading_collapsed": true
   },
   "source": [
    "### meniscus size"
   ]
  },
  {
   "cell_type": "markdown",
   "metadata": {
    "hidden": true
   },
   "source": []
  },
  {
   "cell_type": "markdown",
   "metadata": {
    "hidden": true
   },
   "source": []
  }
 ],
 "metadata": {
  "kernelspec": {
   "display_name": "Python 3",
   "language": "python",
   "name": "python3"
  },
  "language_info": {
   "codemirror_mode": {
    "name": "ipython",
    "version": 3
   },
   "file_extension": ".py",
   "mimetype": "text/x-python",
   "name": "python",
   "nbconvert_exporter": "python",
   "pygments_lexer": "ipython3",
   "version": "3.8.3"
  }
 },
 "nbformat": 4,
 "nbformat_minor": 4
}
