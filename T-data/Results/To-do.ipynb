{
 "cells": [
  {
   "cell_type": "code",
   "execution_count": 1,
   "metadata": {},
   "outputs": [],
   "source": [
    "import numpy as np\n",
    "import pandas as pd\n",
    "import matplotlib.pyplot as plt"
   ]
  },
  {
   "cell_type": "code",
   "execution_count": 6,
   "metadata": {},
   "outputs": [],
   "source": [
    "dfe1=pd.read_csv('2-12_B-ol2-aq2_e.csv')\n",
    "dfi1=pd.read_csv('2-12_B-ol2-aq2_i.csv')\n",
    "dfe2=pd.read_csv('2-12_B-ol3-aq7_e.csv')\n",
    "dfi2=pd.read_csv('2-12_B-ol3-aq7_i.csv')\n",
    "dfe3=pd.read_csv('2-12_B-ol5-aq5_e.csv')\n",
    "dfi3=pd.read_csv('2-12_B-ol5-aq5_i.csv')\n",
    "dfe4=pd.read_csv('2-12_B-ol5-aq15_e.csv')\n",
    "dfi4=pd.read_csv('2-12_B-ol5-aq15_i.csv')\n",
    "\n"
   ]
  },
  {
   "cell_type": "code",
   "execution_count": 7,
   "metadata": {},
   "outputs": [
    {
     "data": {
      "text/plain": [
       "(                   property      mean  mean std     sigma  sigma std\n",
       " 0   Temporal distance 1 [s]  4.670251  0.025186  0.264777   0.025378\n",
       " 1   Temporal distance 2 [s]  4.564403  0.015372  0.230947   0.015536\n",
       " 2       temporal size 1 [s]  4.903117  0.019161  0.228200   0.019161\n",
       " 3       temporal size 2 [s]  4.860179  0.027800  0.332245   0.027857\n",
       " 4        spatial size 1 [s]  4.202917  0.027935  0.246857   0.027953\n",
       " 5        spatial size 2 [s]  4.200065  0.018514  0.168841   0.018514\n",
       " 6  fiber spatial size 1 [s]  0.872678  0.000123  0.014905   0.000124\n",
       " 7  fiber spatial size 2 [s]  0.875469  0.000110  0.014586   0.000110,\n",
       "                property      mean  mean std     sigma  sigma std\n",
       " 0       distance w [mm]  3.981592  0.003902  0.100702   0.003903\n",
       " 1       distance n [mm]  4.125587  0.003203  0.103445   0.003203\n",
       " 2       wavelength [mm]  8.553477  0.004834  0.142782   0.004835\n",
       " 3           size w [mm]  4.570457  0.007700  0.217960   0.007701\n",
       " 4           size n [mm]  4.398837  0.006857  0.228159   0.006857\n",
       " 5  meniscus size b [mm]  0.086395  0.000393  0.020205   0.000393\n",
       " 6  meniscus size f [mm]  0.075855  0.000479  0.020420   0.000479\n",
       " 7     velocity w [mm/s]  1.470460  0.034140  0.925952   0.034657\n",
       " 8     velocity n [mm/s]  1.467106  0.031734  0.925722   0.032216)"
      ]
     },
     "execution_count": 7,
     "metadata": {},
     "output_type": "execute_result"
    }
   ],
   "source": [
    "dfe1,dfi1"
   ]
  },
  {
   "cell_type": "code",
   "execution_count": 8,
   "metadata": {},
   "outputs": [
    {
     "data": {
      "text/plain": [
       "(                                property       mean  mean std     sigma  \\\n",
       " 0                Temporal distance 1 [s]   1.325117  0.007245  0.091524   \n",
       " 1                Temporal distance 2 [s]   1.299157  0.005467  0.078521   \n",
       " 2                    temporal size 1 [s]   3.226853  0.006055  0.098481   \n",
       " 3                    temporal size 2 [s]   3.256182  0.009117  0.140110   \n",
       " 4                  temporal period 1 [s]   4.565800  0.010974  0.135816   \n",
       " 5                  temporal period 2 [s]   4.583556  0.013663  0.156216   \n",
       " 6                     spatial size 1 [s]   7.331645  0.023521  0.362716   \n",
       " 7                     spatial size 2 [s]   7.392506  0.045080  0.485672   \n",
       " 8               fiber spatial size 1 [s]   0.862166  0.000196  0.027583   \n",
       " 9               fiber spatial size 2 [s]   0.852511  0.000338  0.024035   \n",
       " 10                spatial distance 1 [s]   2.940776  0.001600  0.094291   \n",
       " 11                spatial distance 2 [s]   2.918075  0.001407  0.078379   \n",
       " 12  Temporal distance 1 double fit 1 [s]   1.264126  0.001481  0.029518   \n",
       " 13  Temporal distance 1 double fit 2 [s]   1.384025  0.001546  0.031690   \n",
       " 14  Temporal distance 2 double fit 1 [s]   1.255702  0.001291  0.029897   \n",
       " 15  Temporal distance 2 double fit 2 [s]   1.363022  0.001425  0.027849   \n",
       " 16                      dt detectors [s]  22.660579  0.319368  1.007985   \n",
       " 17                          velocity [s]   2.237742  0.023558  0.091256   \n",
       " \n",
       "     sigma std  \n",
       " 0    0.007821  \n",
       " 1    0.005559  \n",
       " 2    0.006055  \n",
       " 3    0.009119  \n",
       " 4    0.010974  \n",
       " 5    0.013669  \n",
       " 6    0.023587  \n",
       " 7    0.046146  \n",
       " 8    0.000196  \n",
       " 9    0.000338  \n",
       " 10   0.001613  \n",
       " 11   0.001407  \n",
       " 12   0.001560  \n",
       " 13   0.001643  \n",
       " 14   0.001386  \n",
       " 15   0.001512  \n",
       " 16   0.344456  \n",
       " 17   0.025984  ,\n",
       "                property       mean  mean std     sigma  sigma std\n",
       " 0       distance w [mm]   2.917147  0.001883  0.075411   0.001902\n",
       " 1       distance n [mm]   3.026248  0.001696  0.077930   0.001697\n",
       " 2       wavelength [mm]  10.627746  0.021618  0.331374   0.021619\n",
       " 3           size w [mm]   7.766010  0.028722  0.455103   0.028727\n",
       " 4           size n [mm]   7.628533  0.024823  0.467229   0.024824\n",
       " 5  meniscus size b [mm]   0.066003  0.000309  0.018533   0.000310\n",
       " 6  meniscus size f [mm]   0.071817  0.000368  0.022223   0.000368\n",
       " 7     velocity w [mm/s]   2.797155  0.071422  1.634784   0.073059\n",
       " 8     velocity n [mm/s]   2.727428  0.071594  1.603116   0.073212)"
      ]
     },
     "execution_count": 8,
     "metadata": {},
     "output_type": "execute_result"
    }
   ],
   "source": [
    "dfe2,dfi2"
   ]
  },
  {
   "cell_type": "code",
   "execution_count": 10,
   "metadata": {},
   "outputs": [
    {
     "data": {
      "text/plain": [
       "(                   property      mean  mean std     sigma  sigma std\n",
       " 0   Temporal distance 1 [s]  1.708495  0.001743  0.044480   0.001743\n",
       " 1   Temporal distance 2 [s]  1.680892  0.001986  0.048361   0.002000\n",
       " 2       temporal size 1 [s]  1.782269  0.006167  0.095895   0.006166\n",
       " 3       temporal size 2 [s]  1.803759  0.006997  0.112144   0.006998\n",
       " 4     temporal period 1 [s]  3.524592  0.018070  0.193362   0.021738\n",
       " 5     temporal period 2 [s]  3.510566  0.017002  0.184521   0.019839\n",
       " 6        spatial size 1 [s]  3.992502  0.005660  0.128943   0.005660\n",
       " 7        spatial size 2 [s]  4.023507  0.005699  0.136005   0.005699\n",
       " 8  fiber spatial size 1 [s]  0.870818  0.000013  0.021993   0.000013\n",
       " 9  fiber spatial size 2 [s]  0.863848  0.000037  0.020188   0.000037,\n",
       "                property      mean  mean std     sigma  sigma std\n",
       " 0       distance w [mm]  3.778833  0.002112  0.095014   0.002123\n",
       " 1       distance n [mm]  3.875058  0.001837  0.099538   0.001842\n",
       " 2       wavelength [mm]  8.147051  0.002192  0.109885   0.002193\n",
       " 3           size w [mm]  4.365403  0.005998  0.169462   0.005998\n",
       " 4           size n [mm]  4.255479  0.004904  0.171371   0.004904\n",
       " 5  meniscus size b [mm]  0.052884  0.000152  0.010836   0.000152\n",
       " 6  meniscus size f [mm]  0.054865  0.000240  0.013616   0.000240\n",
       " 7     velocity w [mm/s]  2.197445  0.008339  0.101974   0.008340\n",
       " 8     velocity n [mm/s]  2.526671  0.130319  1.039008   0.130324)"
      ]
     },
     "execution_count": 10,
     "metadata": {},
     "output_type": "execute_result"
    }
   ],
   "source": [
    "dfe3,dfi3"
   ]
  },
  {
   "cell_type": "code",
   "execution_count": 11,
   "metadata": {},
   "outputs": [
    {
     "data": {
      "text/plain": [
       "(                    property       mean  mean std     sigma  sigma std\n",
       " 0    Temporal distance 1 [s]   0.591079  0.000689  0.021228   0.000689\n",
       " 1    Temporal distance 2 [s]   0.550913  0.000908  0.032895   0.000908\n",
       " 2        temporal size 1 [s]   1.862672  0.002322  0.067783   0.002322\n",
       " 3        temporal size 2 [s]   1.902596  0.003908  0.081253   0.003908\n",
       " 4      temporal period 1 [s]   2.446965  0.004589  0.071024   0.004589\n",
       " 5      temporal period 2 [s]   2.458985  0.003476  0.064235   0.003476\n",
       " 6           dt detectors [s]  10.785758  0.006150  0.054001   0.006149\n",
       " 7            velocity [mm/s]   4.661700  0.005899  0.068904   0.005900\n",
       " 8         spatial size 1 [s]   8.728843  0.016662  0.299989   0.016662\n",
       " 9         spatial size 2 [s]   8.889533  0.019845  0.349580   0.019845\n",
       " 10    spatial distance 1 [s]   2.761754  0.002757  0.098185   0.002757\n",
       " 11    spatial distance 2 [s]   2.598178  0.004985  0.152934   0.004987\n",
       " 12  fiber spatial size 1 [s]   0.908328  0.001344  0.056389   0.001344\n",
       " 13  fiber spatial size 2 [s]   1.040320  0.006306  0.148571   0.006307,\n",
       "                property       mean  mean std     sigma  sigma std\n",
       " 0       distance w [mm]   2.711782  0.001081  0.027996   0.001081\n",
       " 1       distance n [mm]   2.829940  0.001290  0.033662   0.001290\n",
       " 2       wavelength [mm]  11.881444  0.039835  0.369052   0.044293\n",
       " 3           size w [mm]   9.307758  0.013453  0.281348   0.013453\n",
       " 4           size n [mm]   9.158408  0.014346  0.286400   0.014346\n",
       " 5  meniscus size b [mm]   0.062951  0.000372  0.020011   0.000374\n",
       " 6  meniscus size f [mm]   0.080325  0.000501  0.030073   0.000507\n",
       " 7     velocity w [mm/s]   4.281158  0.382891  2.568998   0.456499\n",
       " 8     velocity n [mm/s]   4.721681  0.517341  2.901653   0.598277)"
      ]
     },
     "execution_count": 11,
     "metadata": {},
     "output_type": "execute_result"
    }
   ],
   "source": [
    "dfe4,dfi4"
   ]
  },
  {
   "cell_type": "markdown",
   "metadata": {},
   "source": [
    "### wavelength (period) vs total flux"
   ]
  },
  {
   "cell_type": "markdown",
   "metadata": {},
   "source": [
    "### ratio size/distance vs ratio aq flux/ oil flux"
   ]
  },
  {
   "cell_type": "markdown",
   "metadata": {},
   "source": [
    "### fiber spatial size"
   ]
  },
  {
   "cell_type": "markdown",
   "metadata": {},
   "source": [
    "### velocity "
   ]
  },
  {
   "cell_type": "markdown",
   "metadata": {},
   "source": [
    "### meniscus size"
   ]
  },
  {
   "cell_type": "markdown",
   "metadata": {},
   "source": []
  },
  {
   "cell_type": "markdown",
   "metadata": {},
   "source": []
  }
 ],
 "metadata": {
  "kernelspec": {
   "display_name": "Python 3",
   "language": "python",
   "name": "python3"
  },
  "language_info": {
   "codemirror_mode": {
    "name": "ipython",
    "version": 3
   },
   "file_extension": ".py",
   "mimetype": "text/x-python",
   "name": "python",
   "nbconvert_exporter": "python",
   "pygments_lexer": "ipython3",
   "version": "3.8.3"
  }
 },
 "nbformat": 4,
 "nbformat_minor": 4
}
